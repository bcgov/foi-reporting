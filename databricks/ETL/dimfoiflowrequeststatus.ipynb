{
 "cells": [
  {
   "cell_type": "code",
   "execution_count": 0,
   "metadata": {
    "application/vnd.databricks.v1+cell": {
     "cellMetadata": {
      "byteLimit": 2048000,
      "rowLimit": 10000
     },
     "inputWidgets": {},
     "nuid": "0aa8b895-91fe-488b-925b-b20327d4eb3e",
     "showTitle": false,
     "tableResultSettingsMap": {},
     "title": ""
    }
   },
   "outputs": [],
   "source": [
    "%restart_python\n",
    "%pip install boto3\n",
    "import boto3\n",
    "import os\n",
    "from botocore.exceptions import NoCredentialsError\n",
    "import datetime\n",
    "import sys\n",
    "sys.path.insert(0, '/Workspace/Shared')\n",
    "import etl_helpers\n",
    "from pyspark.sql.functions import col #lit\n",
    "\n",
    "tablename = \"dimfoiflowrequeststatus\"\n",
    "runcycleid = etl_helpers.start_run_cycle(tablename)\n",
    "os.makedirs(\"/dbfs/foi/dataload\", exist_ok=True)  # make sure directory exists\n",
    "\n",
    "try:\n",
    "    # spark.sql(f\"DROP TABLE IF EXISTS {tablename};\")\n",
    "\n",
    "    query = f\"\"\"\n",
    "        SELECT\n",
    "            requeststatusid,\n",
    "            name,\n",
    "            description,\n",
    "            case when isactive = true then 't' else 'f' end as isactive,\n",
    "            'FOIMOD' AS sourceoftruth\n",
    "        FROM foi_mod.foirequeststatuses\n",
    "        order by requeststatusid;\n",
    "        \"\"\"\n",
    "\n",
    "    # print(query)\n",
    "\n",
    "    df = spark.sql(query)\n",
    "    df.show()\n",
    "\n",
    "    # order of columns here is important!\n",
    "    df_mapped = df.selectExpr(\n",
    "            \"requeststatusid AS requeststatusid\",\n",
    "            \"name AS name\",\n",
    "            \"description AS description\",\n",
    "            \"isactive AS isactive\",\n",
    "            \"sourceoftruth AS sourceoftruth\"\n",
    "        )\n",
    "    df_mapped.show()\n",
    "\n",
    "    from delta.tables import DeltaTable\n",
    "    delta_table = DeltaTable.forName(spark, f\"hive_metastore.default.{tablename}\")\n",
    "    delta_table.alias(\"target\").merge(\n",
    "        df_mapped.alias(\"source\"),\n",
    "        \"target.requeststatusid = source.requeststatusid AND target.sourceoftruth = source.sourceoftruth\"\n",
    "    ).whenMatchedUpdate(set = {\n",
    "        \"name\": col(\"source.name\"),\n",
    "        \"description\": col(\"source.description\"),\n",
    "        \"isactive\": col(\"source.isactive\")\n",
    "    }).whenNotMatchedInsert(values = {\n",
    "        \"requeststatusid\": col(\"source.requeststatusid\"),\n",
    "        \"name\": col(\"source.name\"),\n",
    "        \"description\": col(\"source.description\"),\n",
    "        \"isactive\": col(\"source.isactive\"),\n",
    "        \"sourceoftruth\": col(\"source.sourceoftruth\")\n",
    "    }).execute()\n",
    "\n",
    "    etl_helpers.end_run_cycle(runcycleid, 't', tablename)\n",
    "except NoCredentialsError:\n",
    "    print(\"Credentials not available\")\n",
    "    etl_helpers.end_run_cycle(runcycleid, 'f', tablename, \"Credentials not available\")\n",
    "    raise Exception(\"notebook failed\") from e\n",
    "except Exception as e:\n",
    "    if (str(e) == \"no changes for today\"):\n",
    "        print(\"here\")\n",
    "        etl_helpers.end_run_cycle(runcycleid, 't', tablename)\n",
    "    else:\n",
    "        print(f\"An error occurred: {e}\")    \n",
    "        etl_helpers.end_run_cycle(runcycleid, 'f', tablename, f\"An error occurred: {e}\")\n",
    "        raise Exception(\"notebook failed\") from e"
   ]
  }
 ],
 "metadata": {
  "application/vnd.databricks.v1+notebook": {
   "computePreferences": null,
   "dashboards": [],
   "environmentMetadata": {
    "base_environment": "",
    "environment_version": "2"
   },
   "inputWidgetPreferences": null,
   "language": "python",
   "notebookMetadata": {
    "mostRecentlyExecutedCommandWithImplicitDF": {
     "commandId": 953329082402696,
     "dataframes": [
      "_sqldf"
     ]
    },
    "pythonIndentUnit": 4
   },
   "notebookName": "dimfoiflowrequeststatus",
   "widgets": {}
  },
  "language_info": {
   "name": "python"
  }
 },
 "nbformat": 4,
 "nbformat_minor": 0
}

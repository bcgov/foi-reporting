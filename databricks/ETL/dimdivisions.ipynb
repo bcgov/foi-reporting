{
 "cells": [
  {
   "cell_type": "code",
   "execution_count": 0,
   "metadata": {
    "application/vnd.databricks.v1+cell": {
     "cellMetadata": {
      "byteLimit": 2048000,
      "rowLimit": 10000
     },
     "inputWidgets": {},
     "nuid": "6892e1aa-5f67-4aa1-9a9e-dc37bab269e6",
     "showTitle": false,
     "tableResultSettingsMap": {},
     "title": ""
    }
   },
   "outputs": [],
   "source": [
    "%restart_python\n",
    "%pip install boto3\n",
    "import boto3\n",
    "import os\n",
    "from botocore.exceptions import NoCredentialsError\n",
    "import datetime\n",
    "import sys\n",
    "sys.path.insert(0, '/Workspace/Shared')\n",
    "import etl_helpers \n",
    "\n",
    "tablename = \"dimdivisions\"\n",
    "runcycleid = etl_helpers.start_run_cycle(f\"{tablename}\")\n",
    "os.makedirs(\"/dbfs/foi/dataload\", exist_ok=True)  # make sure directory exists\n",
    "\n",
    "try:\n",
    "    spark.sql(f\"DROP TABLE IF EXISTS {tablename};\")\n",
    "\n",
    "    query = f\"\"\"\n",
    "        CREATE TABLE {tablename}\n",
    "        USING DELTA AS\n",
    "            SELECT\n",
    "                a.divisionid,\n",
    "                a.name AS division,\n",
    "                NULL AS description,\n",
    "                CASE\n",
    "                    WHEN a.isactive = TRUE THEN 'Y'\n",
    "                ELSE\n",
    "                    'N'\n",
    "                END AS cactive,\n",
    "                b.bcgovcode AS programarea\n",
    "                FROM foi_mod.programareadivisions a\n",
    "                INNER JOIN foi_mod.programareas b\n",
    "                ON a.programareaid = b.programareaid\n",
    "                order by a.divisionid;  \n",
    "        \"\"\"\n",
    "\n",
    "    # print(query)\n",
    "\n",
    "    df = spark.sql(query)\n",
    "    df.show()\n",
    "\n",
    "    etl_helpers.end_run_cycle(runcycleid, 't', f\"{tablename}\")\n",
    "except NoCredentialsError:\n",
    "    print(\"Credentials not available\")\n",
    "    etl_helpers.end_run_cycle(runcycleid, 'f', f\"{tablename}\", \"Credentials not available\")\n",
    "except Exception as e:\n",
    "    if (str(e) == \"no changes for today\"):\n",
    "        print(\"here\")\n",
    "        etl_helpers.end_run_cycle(runcycleid, 't', f\"{tablename}\")\n",
    "    else:\n",
    "        print(f\"An error occurred: {e}\")    \n",
    "        etl_helpers.end_run_cycle(runcycleid, 'f', f\"{tablename}\", f\"An error occurred: {e}\")"
   ]
  }
 ],
 "metadata": {
  "application/vnd.databricks.v1+notebook": {
   "computePreferences": null,
   "dashboards": [],
   "environmentMetadata": {
    "base_environment": "",
    "environment_version": "2"
   },
   "inputWidgetPreferences": null,
   "language": "python",
   "notebookMetadata": {
    "mostRecentlyExecutedCommandWithImplicitDF": {
     "commandId": 8072639705670327,
     "dataframes": [
      "_sqldf"
     ]
    },
    "pythonIndentUnit": 4
   },
   "notebookName": "dimdivisions",
   "widgets": {}
  },
  "language_info": {
   "name": "python"
  }
 },
 "nbformat": 4,
 "nbformat_minor": 0
}

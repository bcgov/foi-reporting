{
 "cells": [
  {
   "cell_type": "code",
   "execution_count": 0,
   "metadata": {
    "application/vnd.databricks.v1+cell": {
     "cellMetadata": {
      "byteLimit": 2048000,
      "rowLimit": 10000
     },
     "inputWidgets": {},
     "nuid": "6892e1aa-5f67-4aa1-9a9e-dc37bab269e6",
     "showTitle": false,
     "tableResultSettingsMap": {},
     "title": ""
    }
   },
   "outputs": [],
   "source": [
    "%restart_python\n",
    "%pip install boto3\n",
    "import boto3\n",
    "import os\n",
    "from botocore.exceptions import NoCredentialsError\n",
    "import datetime\n",
    "import sys\n",
    "sys.path.insert(0, '/Workspace/Shared')\n",
    "import etl_helpers\n",
    "from pyspark.sql.functions import col #lit\n",
    "from pyspark.sql.types import StringType #IntegerType, BooleanType\n",
    "\n",
    "tablename = \"dimdivisions\"\n",
    "runcycleid = etl_helpers.start_run_cycle(tablename)\n",
    "os.makedirs(\"/dbfs/foi/dataload\", exist_ok=True)  # make sure directory exists\n",
    "\n",
    "try:\n",
    "    query = f\"\"\"\n",
    "        SELECT\n",
    "            a.divisionid,\n",
    "            a.name AS division,\n",
    "            NULL AS description,\n",
    "            CASE\n",
    "                WHEN a.isactive = TRUE THEN 1\n",
    "            ELSE\n",
    "                0\n",
    "            END AS cactive,\n",
    "            b.bcgovcode AS programarea,\n",
    "            'FOIMOD' AS sourceoftruth\n",
    "        FROM foi_mod.programareadivisions a\n",
    "        INNER JOIN foi_mod.programareas b ON a.programareaid = b.programareaid\n",
    "        order by a.divisionid;  \n",
    "        \"\"\"\n",
    "\n",
    "    # print(query)\n",
    "\n",
    "    df = spark.sql(query)\n",
    "    df.show()\n",
    "\n",
    "    # order of columns here is important!\n",
    "    df_mapped = df.selectExpr(\n",
    "            \"divisionid AS divisionid\",\n",
    "            \"division AS division\",\n",
    "            \"description AS description\",\n",
    "            \"cactive AS cactive\",\n",
    "            \"programarea AS programarea\",\n",
    "            \"sourceoftruth AS sourceoftruth\"\n",
    "        )\n",
    "    df_mapped = df_mapped.withColumn(\"description\", col(\"description\").cast(StringType()))\n",
    "    df_mapped.show()\n",
    "\n",
    "    from delta.tables import DeltaTable\n",
    "    delta_table = DeltaTable.forName(spark, f\"hive_metastore.default.{tablename}\")\n",
    "    delta_table.alias(\"target\").merge(\n",
    "        df_mapped.alias(\"source\"),\n",
    "        \"target.divisionid = source.divisionid AND target.sourceoftruth = source.sourceoftruth\"\n",
    "    ).whenMatchedUpdate(set = {\n",
    "        \"division\": \"source.division\",\n",
    "        \"description\": \"source.description\",\n",
    "        \"cactive\": \"source.cactive\",\n",
    "        \"programarea\": \"source.programarea\"\n",
    "    }).whenNotMatchedInsert(values = {\n",
    "        \"divisionid\": \"source.divisionid\",\n",
    "        \"division\": \"source.division\",\n",
    "        \"description\": \"source.description\",\n",
    "        \"cactive\": \"source.cactive\",\n",
    "        \"programarea\": \"source.programarea\",\n",
    "        \"sourceoftruth\": \"source.sourceoftruth\"\n",
    "    }).execute()\n",
    "\n",
    "    etl_helpers.end_run_cycle(runcycleid, 't', tablename)\n",
    "except NoCredentialsError:\n",
    "    print(\"Credentials not available\")\n",
    "    etl_helpers.end_run_cycle(runcycleid, 'f', tablename, \"Credentials not available\")\n",
    "    raise Exception(\"notebook failed\") from e\n",
    "except Exception as e:\n",
    "    if (str(e) == \"no changes for today\"):\n",
    "        print(\"here\")\n",
    "        etl_helpers.end_run_cycle(runcycleid, 't', tablename)\n",
    "    else:\n",
    "        print(f\"An error occurred: {e}\")    \n",
    "        etl_helpers.end_run_cycle(runcycleid, 'f', tablename, f\"An error occurred: {e}\")\n",
    "        raise Exception(\"notebook failed\") from e"
   ]
  }
 ],
 "metadata": {
  "application/vnd.databricks.v1+notebook": {
   "computePreferences": null,
   "dashboards": [],
   "environmentMetadata": {
    "base_environment": "",
    "environment_version": "2"
   },
   "inputWidgetPreferences": null,
   "language": "python",
   "notebookMetadata": {
    "mostRecentlyExecutedCommandWithImplicitDF": {
     "commandId": 8072639705670327,
     "dataframes": [
      "_sqldf"
     ]
    },
    "pythonIndentUnit": 4
   },
   "notebookName": "dimdivisions",
   "widgets": {}
  },
  "language_info": {
   "name": "python"
  }
 },
 "nbformat": 4,
 "nbformat_minor": 0
}

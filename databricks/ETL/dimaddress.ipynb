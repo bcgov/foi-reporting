{
 "cells": [
  {
   "cell_type": "markdown",
   "metadata": {
    "application/vnd.databricks.v1+cell": {
     "cellMetadata": {},
     "inputWidgets": {},
     "nuid": "6a6354e5-dfff-4b99-aa60-44aaadaeae9a",
     "showTitle": false,
     "tableResultSettingsMap": {},
     "title": ""
    }
   },
   "source": []
  },
  {
   "cell_type": "code",
   "execution_count": 0,
   "metadata": {
    "application/vnd.databricks.v1+cell": {
     "cellMetadata": {
      "byteLimit": 2048000,
      "rowLimit": 10000
     },
     "inputWidgets": {},
     "nuid": "9ec94830-8d30-49bd-a6f8-7606d1839be3",
     "showTitle": false,
     "tableResultSettingsMap": {},
     "title": ""
    }
   },
   "outputs": [],
   "source": [
    "%restart_python\n",
    "%pip install boto3\n",
    "import boto3\n",
    "import os\n",
    "from botocore.exceptions import NoCredentialsError\n",
    "import datetime\n",
    "import sys\n",
    "sys.path.insert(0, '/Workspace/Shared')\n",
    "import etl_helpers \n",
    "\n",
    "runcycleid = etl_helpers.start_run_cycle(\"dimaddress\")\n",
    "\n",
    "os.makedirs(\"/dbfs/foi/dataload\", exist_ok=True)  # make sure directory exists\n",
    "\n",
    "try:\n",
    "\n",
    "    df_lastrun = spark.sql(\"SELECT runcyclestartat as createddate FROM dimruncycle WHERE packagename = 'dimaddress'  AND success = 't' ORDER BY runcycleid DESC LIMIT 1\")\n",
    "    \n",
    "    if df_lastrun.count() > 0:\n",
    "        lastruntime = df_lastrun.first().createddate.strftime(\"%Y-%m-%d %H:%M:%S\")\n",
    "    else:\n",
    "        lastruntime = \"2019-01-01 00:00:00\"\n",
    "    print(lastruntime)\n",
    "\n",
    "    query = f\"\"\"\n",
    "        SELECT\n",
    "            t.foirequest_id AS foirequestid,\n",
    "            MAX(CASE WHEN t.dataformat = 'email' THEN t.contactinformation END) AS email,\n",
    "            MAX(CASE WHEN t.dataformat = 'country' THEN t.contactinformation END) AS country,\n",
    "            MAX(CASE WHEN t.dataformat = 'postal' THEN t.contactinformation END) AS postal,\n",
    "            MAX(CASE WHEN t.dataformat = 'province' THEN t.contactinformation END) AS province,\n",
    "            MAX(CASE WHEN t.dataformat = 'city' THEN t.contactinformation END) AS city,\n",
    "            MAX(CASE WHEN t.dataformat = 'address' THEN t.contactinformation END) AS address1,\n",
    "            MAX(CASE WHEN t.dataformat = 'addressSecondary' THEN t.contactinformation END) AS address2,\n",
    "            MAX(t.foirequestversion_id) AS max_foirequestversion_id\n",
    "        FROM\n",
    "            foi_mod.foirequestcontactinformation t\n",
    "        INNER JOIN (\n",
    "            -- Subquery to find the maximum foirequestversion_id for each foirequest_id\n",
    "            SELECT\n",
    "                foirequest_id,\n",
    "                MAX(foirequestversion_id) AS latest_version\n",
    "            FROM\n",
    "                foi_mod.foirequestcontactinformation\n",
    "            GROUP BY\n",
    "                foirequest_id\n",
    "        ) AS latest_versions ON t.foirequest_id = latest_versions.foirequest_id\n",
    "                            AND t.foirequestversion_id = latest_versions.latest_version\n",
    "        WHERE\n",
    "            t.dataformat IN ('email', 'country', 'postal', 'province', 'city', 'address', 'addressSecondary')\n",
    "            and (t.created_at > '{lastruntime}' or t.updated_at > '{lastruntime}')\n",
    "        GROUP BY\n",
    "            t.foirequest_id\n",
    "        ORDER BY\n",
    "            t.foirequest_id desc    \n",
    "        \"\"\"\n",
    "\n",
    "    # print(query)\n",
    "\n",
    "    df = spark.sql(query)\n",
    "    df.show()\n",
    "\n",
    "    # order of columns here is important!\n",
    "    df_mapped = df.selectExpr(\n",
    "            \"address1 AS address1\",\n",
    "            \"address2 AS address2\",\n",
    "            \"city AS city\",\n",
    "            \"province AS state\",\n",
    "            \"country AS country\",\n",
    "            # \"email AS email\",\n",
    "            \"postal AS zipcode\",\n",
    "            \"foirequestid AS foirequestid\",\n",
    "            # f\"{runcycleid} as runcycleid\",\n",
    "        )\n",
    "    df_mapped.show()\n",
    "\n",
    "    from delta.tables import DeltaTable\n",
    "    delta_table = DeltaTable.forName(spark, \"hive_metastore.default.dimaddress\")\n",
    "    delta_table.alias(\"target\").merge(\n",
    "        df_mapped.alias(\"source\"),\n",
    "        \"target.foirequestid = source.foirequestid\"\n",
    "    ).whenMatchedUpdate(set = {\n",
    "        \"address1\": \"source.address1\",\n",
    "        \"address2\": \"source.address2\",\n",
    "        \"city\": \"source.city\",\n",
    "        \"state\": \"source.state\",\n",
    "        \"country\": \"source.country\",\n",
    "        \"zipcode\": \"source.zipcode\",\n",
    "        \"foirequestid\": \"source.foirequestid\"\n",
    "    }).whenNotMatchedInsert(values = {\n",
    "        \"address1\": \"source.address1\",\n",
    "        \"address2\": \"source.address2\",\n",
    "        \"city\": \"source.city\",\n",
    "        \"state\": \"source.state\",\n",
    "        \"country\": \"source.country\",\n",
    "        \"zipcode\": \"source.zipcode\",\n",
    "        \"foirequestid\": \"source.foirequestid\"\n",
    "    }).execute()\n",
    "\n",
    "    etl_helpers.end_run_cycle(runcycleid, 't', \"dimaddress\")\n",
    "except NoCredentialsError:\n",
    "    print(\"Credentials not available\")\n",
    "    etl_helpers.end_run_cycle(runcycleid, 'f', \"dimaddress\", \"Credentials not available\")\n",
    "except Exception as e:\n",
    "    if (str(e) == \"no changes for today\"):\n",
    "        print(\"here\")\n",
    "        etl_helpers.end_run_cycle(runcycleid, 't', \"dimaddress\")\n",
    "    else:\n",
    "        print(f\"An error occurred: {e}\")    \n",
    "        etl_helpers.end_run_cycle(runcycleid, 'f', \"dimaddress\", f\"An error occurred: {e}\")"
   ]
  }
 ],
 "metadata": {
  "application/vnd.databricks.v1+notebook": {
   "computePreferences": null,
   "dashboards": [],
   "environmentMetadata": {
    "base_environment": "",
    "environment_version": "2"
   },
   "inputWidgetPreferences": null,
   "language": "python",
   "notebookMetadata": {
    "mostRecentlyExecutedCommandWithImplicitDF": {
     "commandId": 7865885159386217,
     "dataframes": [
      "_sqldf"
     ]
    },
    "pythonIndentUnit": 4
   },
   "notebookName": "dimaddress",
   "widgets": {}
  },
  "language_info": {
   "name": "python"
  }
 },
 "nbformat": 4,
 "nbformat_minor": 0
}

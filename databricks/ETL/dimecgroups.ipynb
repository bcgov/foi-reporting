{
 "cells": [
  {
   "cell_type": "code",
   "execution_count": 0,
   "metadata": {
    "application/vnd.databricks.v1+cell": {
     "cellMetadata": {
      "byteLimit": 2048000,
      "rowLimit": 10000
     },
     "inputWidgets": {},
     "nuid": "0aa8b895-91fe-488b-925b-b20327d4eb3e",
     "showTitle": false,
     "tableResultSettingsMap": {},
     "title": ""
    }
   },
   "outputs": [],
   "source": [
    "%restart_python\n",
    "%pip install boto3\n",
    "import boto3\n",
    "import os\n",
    "from botocore.exceptions import NoCredentialsError\n",
    "import datetime\n",
    "import sys\n",
    "sys.path.insert(0, '/Workspace/Shared')\n",
    "import etl_helpers \n",
    "\n",
    "tablename = \"dimecgroups\"\n",
    "runcycleid = etl_helpers.start_run_cycle(f\"{tablename}\")\n",
    "os.makedirs(\"/dbfs/foi/dataload\", exist_ok=True)  # make sure directory exists\n",
    "\n",
    "try:\n",
    "    spark.sql(f\"DROP TABLE IF EXISTS {tablename};\")\n",
    "\n",
    "    query = f\"\"\"\n",
    "        CREATE TABLE {tablename}\n",
    "        USING DELTA AS\n",
    "            SELECT\n",
    "                a.teamid AS groupid,\n",
    "                a.name AS groupname,\n",
    "                a.name AS tllgroupname,\n",
    "                a.description AS groupdescription,\n",
    "                CASE\n",
    "                    WHEN a.isactive = TRUE THEN 'Y'\n",
    "                ELSE\n",
    "                    'N'\n",
    "                END AS isactive,\n",
    "                NULL AS createddate,\n",
    "                NULL AS modifieddate,\n",
    "                a.teamid AS groupcode,\n",
    "                NULL AS deleteflag,\n",
    "                NULL AS officeid,\n",
    "                b.email_address AS emailid\n",
    "                FROM foi_mod.operatingteams a\n",
    "                INNER JOIN foi_mod.operatingteamemails b\n",
    "                ON a.teamid = b.teamid\n",
    "                order by a.teamid;  \n",
    "        \"\"\"\n",
    "\n",
    "    # print(query)\n",
    "\n",
    "    df = spark.sql(query)\n",
    "    df.show()\n",
    "\n",
    "    etl_helpers.end_run_cycle(runcycleid, 't', f\"{tablename}\")\n",
    "except NoCredentialsError:\n",
    "    print(\"Credentials not available\")\n",
    "    etl_helpers.end_run_cycle(runcycleid, 'f', f\"{tablename}\", \"Credentials not available\")\n",
    "except Exception as e:\n",
    "    if (str(e) == \"no changes for today\"):\n",
    "        print(\"here\")\n",
    "        etl_helpers.end_run_cycle(runcycleid, 't', f\"{tablename}\")\n",
    "    else:\n",
    "        print(f\"An error occurred: {e}\")    \n",
    "        etl_helpers.end_run_cycle(runcycleid, 'f', f\"{tablename}\", f\"An error occurred: {e}\")"
   ]
  }
 ],
 "metadata": {
  "application/vnd.databricks.v1+notebook": {
   "computePreferences": null,
   "dashboards": [],
   "environmentMetadata": {
    "base_environment": "",
    "environment_version": "2"
   },
   "inputWidgetPreferences": null,
   "language": "python",
   "notebookMetadata": {
    "mostRecentlyExecutedCommandWithImplicitDF": {
     "commandId": 8072639705670331,
     "dataframes": [
      "_sqldf"
     ]
    },
    "pythonIndentUnit": 4
   },
   "notebookName": "dimecgroups",
   "widgets": {}
  },
  "language_info": {
   "name": "python"
  }
 },
 "nbformat": 4,
 "nbformat_minor": 0
}

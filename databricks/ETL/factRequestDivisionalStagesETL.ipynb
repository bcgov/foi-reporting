{
 "cells": [
  {
   "cell_type": "code",
   "execution_count": 0,
   "metadata": {
    "application/vnd.databricks.v1+cell": {
     "cellMetadata": {
      "byteLimit": 2048000,
      "rowLimit": 10000
     },
     "inputWidgets": {},
     "nuid": "fd5066fd-ef21-4d97-8d9d-e45749e4fa57",
     "showTitle": false,
     "tableResultSettingsMap": {},
     "title": ""
    }
   },
   "outputs": [],
   "source": [
    "%restart_python\n",
    "%pip install boto3\n",
    "import boto3\n",
    "import os\n",
    "from botocore.exceptions import NoCredentialsError\n",
    "import datetime\n",
    "import sys\n",
    "sys.path.insert(0, '/Workspace/Shared')\n",
    "import etl_helpers \n",
    "\n",
    "runcycleid = etl_helpers.start_run_cycle(\"factRequestDivisionalStages\")\n",
    "\n",
    "os.makedirs(\"/dbfs/foi/dataload\", exist_ok=True)  # make sure directory exists\n",
    "\n",
    "try:\n",
    "    today = str(datetime.date.today())\n",
    "\n",
    "    df_existing = spark.sql(\"SELECT max(createddate) as createddate FROM factrequestdivisionalstages\")\n",
    "    maxcreatedate = df_existing.first().createddate\n",
    "    maxcreatedate_str = maxcreatedate.strftime(\"%Y-%m-%d %H:%M:%S\")\n",
    "\n",
    "    query = f\"\"\"\n",
    "        SELECT\n",
    "        FMRD.foiministrydivisionid AS foiministrydivisionid,\n",
    "        FMRD.divisionid AS divisionid,\n",
    "        FMRD.stageid AS stageid,\n",
    "        FMRD.created_at AS created_at,\n",
    "        FMRD.createdby AS createdby,\n",
    "        FMRD.updated_at AS updated_at,\n",
    "        FMRD.updatedby AS updatedby,\n",
    "        FMRD.foiministryrequest_id AS foiministryrequest_id,\n",
    "        FMRD.foiministryrequestversion_id AS foiministryrequestversion_id,\n",
    "        FMRD.divisionduedate AS divisionduedate,\n",
    "        FMRD.eapproval AS eapproval,\n",
    "        FMRD.divisionreceiveddate AS divisionreceiveddate,\n",
    "        FMR.axisrequestid AS filerequestnumber\n",
    "        FROM foi_mod.FOIMinistryRequestDivisions FMRD\n",
    "        LEFT JOIN foi_mod.FOIMinistryRequests FMR\n",
    "        ON FMR.foiministryrequestid = FMRD.foiministryrequest_id\n",
    "            AND FMR.version = FMRD.foiministryrequestversion_id\n",
    "        -- WHERE FMRD.created_at > CAST('{maxcreatedate_str}' AS TIMESTAMP)\n",
    "        WHERE DATE(FMRD.created_at) = DATE('2025-05-14')\n",
    "        \"\"\"\n",
    "\n",
    "    df = spark.sql(query)\n",
    "    df.show()\n",
    "\n",
    "\n",
    "    # order of columns here is important!\n",
    "    df_mapped = df.selectExpr(\n",
    "        \"foiministrydivisionid AS foirequestdivisionstageid\",\n",
    "        f\"{runcycleid} as runcycleid\",\n",
    "        \"divisionid AS divisionid\",\n",
    "        \"stageid AS stageid\",\n",
    "        \"createdby AS createdby\",\n",
    "        \"created_at AS createddate\",\n",
    "        \"updatedby AS modifiedby\",\n",
    "        \"updated_at AS modifieddate\",\n",
    "        \"divisionduedate AS divisionstageduedate\",\n",
    "        \"divisionreceiveddate AS divisionstagereceiveddate\",\n",
    "        \"eapproval AS divisionstageeapproval\",\n",
    "        \"foiministryrequestversion_id AS foirequestversionid\",\n",
    "        \"foiministryrequest_id AS foiministryrequestid\",\n",
    "        \"filerequestnumber as foirequestnumber\",\n",
    "        \"'' as officecode\",\n",
    "        \n",
    "    )\n",
    "    df_mapped.show()\n",
    "    df_mapped.write.format(\"delta\").mode(\"append\").option(\"mergeSchema\", \"false\").insertInto(\"factrequestdivisionalstages\")  \n",
    "    etl_helpers.end_run_cycle(runcycleid, 't', \"factRequestDivisionalStages\")\n",
    "except NoCredentialsError:\n",
    "    print(\"Credentials not available\")\n",
    "    etl_helpers.end_run_cycle(runcycleid, 'f', \"factRequestDivisionalStages\", \"Credentials not available\")\n",
    "    raise Exception(\"notebook failed\") from e\n",
    "except Exception as e:\n",
    "    if (str(e) == \"no changes for today\"):\n",
    "        print(\"here\")\n",
    "        etl_helpers.end_run_cycle(runcycleid, 't', \"factRequestDivisionalStages\")\n",
    "    else:\n",
    "        print(f\"An error occurred: {e}\")    \n",
    "        etl_helpers.end_run_cycle(runcycleid, 'f', \"factRequestDivisionalStages\", f\"An error occurred: {e}\")\n",
    "        raise Exception(\"notebook failed\") from e"
   ]
  }
 ],
 "metadata": {
  "application/vnd.databricks.v1+notebook": {
   "computePreferences": null,
   "dashboards": [],
   "environmentMetadata": {
    "base_environment": "",
    "environment_version": "2"
   },
   "inputWidgetPreferences": null,
   "language": "python",
   "notebookMetadata": {
    "pythonIndentUnit": 4
   },
   "notebookName": "factRequestDivisionalStagesETL",
   "widgets": {}
  },
  "language_info": {
   "name": "python"
  }
 },
 "nbformat": 4,
 "nbformat_minor": 0
}

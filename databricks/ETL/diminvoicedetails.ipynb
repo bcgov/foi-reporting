{
 "cells": [
  {
   "cell_type": "code",
   "execution_count": 0,
   "metadata": {
    "application/vnd.databricks.v1+cell": {
     "cellMetadata": {
      "byteLimit": 2048000,
      "implicitDf": true,
      "rowLimit": 10000
     },
     "inputWidgets": {},
     "nuid": "80c417d3-5fcc-4b18-9977-16c73b282d27",
     "showTitle": false,
     "tableResultSettingsMap": {},
     "title": ""
    }
   },
   "outputs": [],
   "source": [
    "# %sql\n",
    "\n",
    "# DROP TABLE IF EXISTS diminvoicedetails;\n",
    "\n",
    "# CREATE TABLE diminvoicedetails\n",
    "# USING DELTA AS\n",
    "#     SELECT\n",
    "#         payment_id AS invoiceid,\n",
    "#         fee_code_id AS feetypeid,\n",
    "#         total AS invoiceamount,\n",
    "#         CAST(NULL AS DOUBLE) AS unitvalue,\n",
    "#         quantity AS units,\n",
    "#         total AS chargedamount,\n",
    "#         CAST(NULL AS DOUBLE) AS incurredamount,\n",
    "#         CAST(NULL AS DOUBLE) AS feewaived,\n",
    "#         'FOIMOD' AS sourceoftruth\n",
    "#     FROM foi_mod.payments\n",
    "#     order by payment_id;"
   ]
  },
  {
   "cell_type": "code",
   "execution_count": 0,
   "metadata": {
    "application/vnd.databricks.v1+cell": {
     "cellMetadata": {
      "byteLimit": 2048000,
      "rowLimit": 10000
     },
     "inputWidgets": {},
     "nuid": "0aa8b895-91fe-488b-925b-b20327d4eb3e",
     "showTitle": false,
     "tableResultSettingsMap": {},
     "title": ""
    }
   },
   "outputs": [],
   "source": [
    "%restart_python\n",
    "%pip install boto3\n",
    "import boto3\n",
    "import os\n",
    "from botocore.exceptions import NoCredentialsError\n",
    "import datetime\n",
    "import sys\n",
    "sys.path.insert(0, '/Workspace/Shared')\n",
    "import etl_helpers\n",
    "from pyspark.sql.functions import col #lit\n",
    "\n",
    "tablename = \"diminvoicedetails\"\n",
    "runcycleid = etl_helpers.start_run_cycle(tablename)\n",
    "os.makedirs(\"/dbfs/foi/dataload\", exist_ok=True)  # make sure directory exists\n",
    "\n",
    "try:\n",
    "    query = f\"\"\"\n",
    "        SELECT\n",
    "            payment_id AS invoiceid,\n",
    "            fee_code_id AS feetypeid,\n",
    "            total AS invoiceamount,\n",
    "            CAST(NULL AS DOUBLE) AS unitvalue,\n",
    "            quantity AS units,\n",
    "            total AS chargedamount,\n",
    "            CAST(NULL AS DOUBLE) AS incurredamount,\n",
    "            CAST(NULL AS DOUBLE) AS feewaived,\n",
    "            'FOIMOD' AS sourceoftruth\n",
    "        FROM foi_mod.payments\n",
    "        order by payment_id;\n",
    "        \"\"\"\n",
    "\n",
    "    # print(query)\n",
    "\n",
    "    df = spark.sql(query)\n",
    "    df.show()\n",
    "\n",
    "    # order of columns here is important!\n",
    "    df_mapped = df.selectExpr(\n",
    "            \"invoiceid AS invoiceid\",\n",
    "            \"feetypeid AS feetypeid\",\n",
    "            \"invoiceamount AS invoiceamount\",\n",
    "            \"unitvalue AS unitvalue\",\n",
    "            \"units AS units\",\n",
    "            \"chargedamount AS chargedamount\",\n",
    "            \"incurredamount AS incurredamount\",\n",
    "            \"feewaived as feewaived\",\n",
    "            \"sourceoftruth AS sourceoftruth\"\n",
    "        )\n",
    "    df_mapped.show()\n",
    "\n",
    "    from delta.tables import DeltaTable\n",
    "    delta_table = DeltaTable.forName(spark, f\"hive_metastore.default.{tablename}\")\n",
    "    delta_table.alias(\"target\").merge(\n",
    "        df_mapped.alias(\"source\"),\n",
    "        \"target.invoiceid = source.invoiceid AND target.sourceoftruth = source.sourceoftruth\"\n",
    "    ).whenMatchedUpdate(set = {\n",
    "        \"feetypeid\": col(\"source.feetypeid\"),\n",
    "        \"invoiceamount\": col(\"source.invoiceamount\"),\n",
    "        \"unitvalue\": col(\"source.unitvalue\"),\n",
    "        \"units\": col(\"source.units\"),\n",
    "        \"chargedamount\": col(\"source.chargedamount\"),\n",
    "        \"incurredamount\": col(\"source.incurredamount\"),\n",
    "        \"feewaived\": col(\"source.feewaived\")\n",
    "    }).whenNotMatchedInsert(values = {\n",
    "        \"invoiceid\": col(\"source.invoiceid\"),\n",
    "        \"feetypeid\": col(\"source.feetypeid\"),\n",
    "        \"invoiceamount\": col(\"source.invoiceamount\"),\n",
    "        \"unitvalue\": col(\"source.unitvalue\"),\n",
    "        \"units\": col(\"source.units\"),\n",
    "        \"chargedamount\": col(\"source.chargedamount\"),\n",
    "        \"incurredamount\": col(\"source.incurredamount\"),\n",
    "        \"feewaived\": col(\"source.feewaived\"),\n",
    "        \"sourceoftruth\": col(\"source.sourceoftruth\")\n",
    "    }).execute()\n",
    "\n",
    "    etl_helpers.end_run_cycle(runcycleid, 't', tablename)\n",
    "except NoCredentialsError:\n",
    "    print(\"Credentials not available\")\n",
    "    etl_helpers.end_run_cycle(runcycleid, 'f', tablename, \"Credentials not available\")\n",
    "    raise Exception(\"notebook failed\") from e\n",
    "except Exception as e:\n",
    "    if (str(e) == \"no changes for today\"):\n",
    "        print(\"here\")\n",
    "        etl_helpers.end_run_cycle(runcycleid, 't', tablename)\n",
    "    else:\n",
    "        print(f\"An error occurred: {e}\")    \n",
    "        etl_helpers.end_run_cycle(runcycleid, 'f', tablename, f\"An error occurred: {e}\")\n",
    "        raise Exception(\"notebook failed\") from e"
   ]
  }
 ],
 "metadata": {
  "application/vnd.databricks.v1+notebook": {
   "computePreferences": null,
   "dashboards": [],
   "environmentMetadata": {
    "base_environment": "",
    "environment_version": "2"
   },
   "inputWidgetPreferences": null,
   "language": "python",
   "notebookMetadata": {
    "mostRecentlyExecutedCommandWithImplicitDF": {
     "commandId": 4530254519177300,
     "dataframes": [
      "_sqldf"
     ]
    },
    "pythonIndentUnit": 4
   },
   "notebookName": "diminvoicedetails",
   "widgets": {}
  },
  "language_info": {
   "name": "python"
  }
 },
 "nbformat": 4,
 "nbformat_minor": 0
}

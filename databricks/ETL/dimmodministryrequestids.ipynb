{
 "cells": [
  {
   "cell_type": "code",
   "execution_count": 0,
   "metadata": {
    "application/vnd.databricks.v1+cell": {
     "cellMetadata": {
      "byteLimit": 2048000,
      "rowLimit": 10000
     },
     "inputWidgets": {},
     "nuid": "0aa8b895-91fe-488b-925b-b20327d4eb3e",
     "showTitle": false,
     "tableResultSettingsMap": {},
     "title": ""
    }
   },
   "outputs": [],
   "source": [
    "%restart_python\n",
    "%pip install boto3\n",
    "import boto3\n",
    "import os\n",
    "from botocore.exceptions import NoCredentialsError\n",
    "import datetime\n",
    "import sys\n",
    "sys.path.insert(0, '/Workspace/Shared')\n",
    "import etl_helpers \n",
    "\n",
    "tablename = \"dimmodministryrequestids\"\n",
    "runcycleid = etl_helpers.start_run_cycle(f\"{tablename}\")\n",
    "os.makedirs(\"/dbfs/foi/dataload\", exist_ok=True)  # make sure directory exists\n",
    "\n",
    "try:\n",
    "    df_lastrun = spark.sql(f\"SELECT runcyclestartat as createddate FROM dimruncycle WHERE packagename = \\\"{tablename}\\\" AND success = 't' ORDER BY runcycleid DESC LIMIT 1\")\n",
    "    \n",
    "    if df_lastrun.count() > 0:\n",
    "        lastruntime = df_lastrun.first().createddate.strftime(\"%Y-%m-%d %H:%M:%S\")\n",
    "    else:\n",
    "        lastruntime = \"2019-01-01 00:00:00\"\n",
    "    print(lastruntime)\n",
    "\n",
    "    query = f\"\"\"\n",
    "        SELECT\n",
    "            foiministryrequestid,\n",
    "            foirequest_id AS foirequestid,\n",
    "            axisrequestid,\n",
    "            created_at\n",
    "        FROM foi_mod.foiministryrequests\n",
    "        WHERE version = 1 AND created_at >= \"{lastruntime}\"\n",
    "        ORDER BY foiministryrequestid;\n",
    "    \"\"\"\n",
    "\n",
    "    # print(query)\n",
    "\n",
    "    df = spark.sql(query)\n",
    "    df.show()\n",
    "\n",
    "    # order of columns here is important!\n",
    "    df_mapped = df.selectExpr(\n",
    "        \"foiministryrequestid AS foiministryrequestid\",\n",
    "        \"foirequestid AS foirequestid\",\n",
    "        \"axisrequestid AS axisrequestid\",\n",
    "        \"created_at AS createddate\"\n",
    "    )\n",
    "    df_mapped.show()\n",
    "\n",
    "    from delta.tables import DeltaTable\n",
    "    delta_table = DeltaTable.forName(spark, f\"hive_metastore.default.{tablename}\")\n",
    "    delta_table.alias(\"target\").merge(\n",
    "        df_mapped.alias(\"source\"),\n",
    "        \"target.foiministryrequestid = source.foiministryrequestid\"\n",
    "    ).whenMatchedUpdate(set = {\n",
    "        \"foirequestid\": \"source.foirequestid\",\n",
    "        \"axisrequestid\": \"source.axisrequestid\",\n",
    "        \"createddate\": \"source.createddate\"\n",
    "    }).whenNotMatchedInsert(values = {\n",
    "        \"foiministryrequestid\": \"source.foiministryrequestid\",\n",
    "        \"foirequestid\": \"source.foirequestid\",\n",
    "        \"axisrequestid\": \"source.axisrequestid\",\n",
    "        \"createddate\": \"source.createddate\"\n",
    "    }).execute()\n",
    "\n",
    "    etl_helpers.end_run_cycle(runcycleid, 't', f\"{tablename}\")\n",
    "except NoCredentialsError:\n",
    "    print(\"Credentials not available\")\n",
    "    etl_helpers.end_run_cycle(runcycleid, 'f', f\"{tablename}\", \"Credentials not available\")\n",
    "except Exception as e:\n",
    "    if (str(e) == \"no changes for today\"):\n",
    "        print(\"here\")\n",
    "        etl_helpers.end_run_cycle(runcycleid, 't', f\"{tablename}\")\n",
    "    else:\n",
    "        print(f\"An error occurred: {e}\")    \n",
    "        etl_helpers.end_run_cycle(runcycleid, 'f', f\"{tablename}\", f\"An error occurred: {e}\")"
   ]
  }
 ],
 "metadata": {
  "application/vnd.databricks.v1+notebook": {
   "computePreferences": null,
   "dashboards": [],
   "environmentMetadata": {
    "base_environment": "",
    "environment_version": "2"
   },
   "inputWidgetPreferences": null,
   "language": "python",
   "notebookMetadata": {
    "mostRecentlyExecutedCommandWithImplicitDF": {
     "commandId": 5808175415004888,
     "dataframes": [
      "_sqldf"
     ]
    },
    "pythonIndentUnit": 4
   },
   "notebookName": "dimmodministryrequestids",
   "widgets": {}
  },
  "language_info": {
   "name": "python"
  }
 },
 "nbformat": 4,
 "nbformat_minor": 0
}

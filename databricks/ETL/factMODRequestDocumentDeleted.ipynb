{
 "cells": [
  {
   "cell_type": "code",
   "execution_count": 0,
   "metadata": {
    "application/vnd.databricks.v1+cell": {
     "cellMetadata": {
      "byteLimit": 2048000,
      "rowLimit": 10000
     },
     "inputWidgets": {},
     "nuid": "fd5066fd-ef21-4d97-8d9d-e45749e4fa57",
     "showTitle": false,
     "tableResultSettingsMap": {},
     "title": ""
    }
   },
   "outputs": [],
   "source": [
    "%restart_python\n",
    "%pip install boto3\n",
    "import boto3\n",
    "import os\n",
    "from botocore.exceptions import NoCredentialsError\n",
    "import datetime\n",
    "import sys\n",
    "sys.path.insert(0, '/Workspace/Shared')\n",
    "import etl_helpers \n",
    "\n",
    "runcycleid = etl_helpers.start_run_cycle(\"factMODRequestDocumentDeleted\")\n",
    "\n",
    "os.makedirs(\"/dbfs/foi/dataload\", exist_ok=True)  # make sure directory exists\n",
    "\n",
    "try:\n",
    "    today = str(datetime.date.today())\n",
    "\n",
    "    df_existing = spark.sql(\"SELECT max(created_at) as createddate FROM factmodrequestdocumentdeleted\")\n",
    "    maxcreatedate = df_existing.first().createddate\n",
    "    maxcreatedate_str = maxcreatedate.strftime(\"%Y-%m-%d %H:%M:%S\")\n",
    "\n",
    "    query = f\"\"\"\n",
    "        SELECT\n",
    "        ministryrequestid,\n",
    "        documentdeletedid,\n",
    "        created_at,\n",
    "        createdby,\n",
    "        filepath\n",
    "        from docreviewer.documentdeleted\n",
    "        where created_at > '{maxcreatedate_str}'\n",
    "        \"\"\"\n",
    "\n",
    "    print(query)\n",
    "\n",
    "    df = spark.sql(query)\n",
    "    df.show()\n",
    "\n",
    "\n",
    "    # order of columns here is important!\n",
    "    df_mapped = df.selectExpr(\n",
    "            \"documentdeletedid AS documentdeletedid\",\n",
    "            \"filepath AS filepath\",\n",
    "            \"createdby AS createdby\",\n",
    "            \"created_at AS created_at\",\n",
    "            \"ministryrequestid AS foiministryrequestid\",\n",
    "            f\"{runcycleid} as runcycleid\",\n",
    "            \n",
    "        )\n",
    "    df_mapped.show()\n",
    "    etl_helpers.append_with_incrementing_id(df_mapped, table_name=\"factmodrequestdocumentdeleted\", id_column=\"id\", database=\"hive_metastore.default\")\n",
    "    etl_helpers.end_run_cycle(runcycleid, 't', \"factMODRequestDocumentDeleted\")\n",
    "except NoCredentialsError:\n",
    "    print(\"Credentials not available\")\n",
    "    etl_helpers.end_run_cycle(runcycleid, 'f', \"factMODRequestDocumentDeleted\", \"Credentials not available\")\n",
    "except Exception as e:\n",
    "    if (str(e) == \"no changes for today\"):\n",
    "        print(\"here\")\n",
    "        etl_helpers.end_run_cycle(runcycleid, 't', \"factMODRequestDocumentDeleted\")\n",
    "    else:\n",
    "        print(f\"An error occurred: {e}\")    \n",
    "        etl_helpers.end_run_cycle(runcycleid, 'f', \"factMODRequestDocumentDeleted\", f\"An error occurred: {e}\")"
   ]
  }
 ],
 "metadata": {
  "application/vnd.databricks.v1+notebook": {
   "computePreferences": null,
   "dashboards": [],
   "environmentMetadata": {
    "base_environment": "",
    "environment_version": "2"
   },
   "inputWidgetPreferences": null,
   "language": "python",
   "notebookMetadata": {
    "pythonIndentUnit": 4
   },
   "notebookName": "factMODRequestDocumentDeleted",
   "widgets": {}
  },
  "language_info": {
   "name": "python"
  }
 },
 "nbformat": 4,
 "nbformat_minor": 0
}

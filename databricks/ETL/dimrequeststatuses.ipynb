{
 "cells": [
  {
   "cell_type": "code",
   "execution_count": 0,
   "metadata": {
    "application/vnd.databricks.v1+cell": {
     "cellMetadata": {
      "byteLimit": 2048000,
      "implicitDf": true,
      "rowLimit": 10000
     },
     "inputWidgets": {},
     "nuid": "86c9e30c-8734-4604-b235-20375b967c2a",
     "showTitle": false,
     "tableResultSettingsMap": {},
     "title": ""
    }
   },
   "outputs": [],
   "source": [
    "%sql\n",
    "\n",
    "select * from dimruncycle\n",
    "order by runcycleid desc\n",
    "limit 1;\n",
    "\n",
    "-- DROP TABLE IF EXISTS dimrequeststatuses;\n",
    "\n",
    "-- CREATE TABLE dimrequeststatuses\n",
    "-- USING DELTA AS\n",
    "--     SELECT\n",
    "--         requeststatusid,\n",
    "--         name AS requeststatusname,\n",
    "--         name AS requeststatus,\n",
    "--         CAST(NULL AS TIMESTAMP) AS createddate,\n",
    "--         CAST(NULL AS TIMESTAMP) AS modifieddate,\n",
    "--         CASE\n",
    "--             WHEN isactive = true THEN 'Y'\n",
    "--         ELSE\n",
    "--             'N'\n",
    "--         END AS cactive,\n",
    "--         'FOIMOD' AS sourceoftruth\n",
    "--     FROM foi_mod.foirequeststatuses\n",
    "--     order by requeststatusid;"
   ]
  },
  {
   "cell_type": "code",
   "execution_count": 0,
   "metadata": {
    "application/vnd.databricks.v1+cell": {
     "cellMetadata": {
      "byteLimit": 2048000,
      "rowLimit": 10000
     },
     "inputWidgets": {},
     "nuid": "0aa8b895-91fe-488b-925b-b20327d4eb3e",
     "showTitle": false,
     "tableResultSettingsMap": {},
     "title": ""
    }
   },
   "outputs": [],
   "source": [
    "%restart_python\n",
    "%pip install boto3\n",
    "import boto3\n",
    "import os\n",
    "from botocore.exceptions import NoCredentialsError\n",
    "import datetime\n",
    "import sys\n",
    "sys.path.insert(0, '/Workspace/Shared')\n",
    "import etl_helpers\n",
    "from pyspark.sql.functions import col #lit\n",
    "\n",
    "tablename = \"dimrequeststatuses\"\n",
    "runcycleid = etl_helpers.start_run_cycle(tablename)\n",
    "os.makedirs(\"/dbfs/foi/dataload\", exist_ok=True)  # make sure directory exists\n",
    "\n",
    "try:\n",
    "    query = f\"\"\"\n",
    "        SELECT\n",
    "            requeststatusid,\n",
    "            name AS requeststatusname,\n",
    "            name AS requeststatus,\n",
    "            CAST(NULL AS TIMESTAMP) AS createddate,\n",
    "            CAST(NULL AS TIMESTAMP) AS modifieddate,\n",
    "            CASE\n",
    "                WHEN isactive = true THEN 'Y'\n",
    "            ELSE\n",
    "                'N'\n",
    "            END AS cactive,\n",
    "            'FOIMOD' AS sourceoftruth\n",
    "        FROM foi_mod.foirequeststatuses\n",
    "        order by requeststatusid;\n",
    "        \"\"\"\n",
    "\n",
    "    # print(query)\n",
    "\n",
    "    df = spark.sql(query)\n",
    "    df.show()\n",
    "\n",
    "    # order of columns here is important!\n",
    "    df_mapped = df.selectExpr(\n",
    "            \"requeststatusid AS requeststatusid\",\n",
    "            \"requeststatusname AS requeststatusname\",\n",
    "            \"requeststatus AS requeststatus\",\n",
    "            \"createddate AS createddate\",\n",
    "            \"modifieddate AS modifieddate\",\n",
    "            \"cactive AS cactive\",\n",
    "            \"sourceoftruth AS sourceoftruth\"\n",
    "        )\n",
    "    df_mapped.show()\n",
    "\n",
    "    from delta.tables import DeltaTable\n",
    "    delta_table = DeltaTable.forName(spark, f\"hive_metastore.default.{tablename}\")\n",
    "    delta_table.alias(\"target\").merge(\n",
    "        df_mapped.alias(\"source\"),\n",
    "        \"target.requeststatusid = source.requeststatusid AND target.sourceoftruth = source.sourceoftruth\"\n",
    "    ).whenMatchedUpdate(set = {\n",
    "        \"requeststatusname\": col(\"source.requeststatusname\"),\n",
    "        \"requeststatus\": col(\"source.requeststatus\"),\n",
    "        \"createddate\": col(\"source.createddate\"),\n",
    "        \"modifieddate\": col(\"source.modifieddate\"),\n",
    "        \"cactive\": col(\"source.cactive\")\n",
    "    }).whenNotMatchedInsert(values = {\n",
    "        \"requeststatusid\": col(\"source.requeststatusid\"),\n",
    "        \"requeststatusname\": col(\"source.requeststatusname\"),\n",
    "        \"requeststatus\": col(\"source.requeststatus\"),\n",
    "        \"createddate\": col(\"source.createddate\"),\n",
    "        \"modifieddate\": col(\"source.modifieddate\"),\n",
    "        \"cactive\": col(\"source.cactive\"),\n",
    "        \"sourceoftruth\": col(\"source.sourceoftruth\")\n",
    "    }).execute()\n",
    "\n",
    "    etl_helpers.end_run_cycle(runcycleid, 't', tablename)\n",
    "except NoCredentialsError:\n",
    "    print(\"Credentials not available\")\n",
    "    etl_helpers.end_run_cycle(runcycleid, 'f', tablename, \"Credentials not available\")\n",
    "    dbutils.notebook.exit(\"Error: Something went wrong.\")\n",
    "except Exception as e:\n",
    "    if (str(e) == \"no changes for today\"):\n",
    "        print(\"here\")\n",
    "        etl_helpers.end_run_cycle(runcycleid, 't', tablename)\n",
    "    else:\n",
    "        print(f\"An error occurred: {e}\")    \n",
    "        etl_helpers.end_run_cycle(runcycleid, 'f', tablename, f\"An error occurred: {e}\")\n",
    "        dbutils.notebook.exit(\"Error: Something went wrong.\")"
   ]
  }
 ],
 "metadata": {
  "application/vnd.databricks.v1+notebook": {
   "computePreferences": null,
   "dashboards": [],
   "environmentMetadata": {
    "base_environment": "",
    "environment_version": "2"
   },
   "inputWidgetPreferences": null,
   "language": "python",
   "notebookMetadata": {
    "mostRecentlyExecutedCommandWithImplicitDF": {
     "commandId": 4530254519177305,
     "dataframes": [
      "_sqldf"
     ]
    },
    "pythonIndentUnit": 4
   },
   "notebookName": "dimrequeststatuses",
   "widgets": {}
  },
  "language_info": {
   "name": "python"
  }
 },
 "nbformat": 4,
 "nbformat_minor": 0
}

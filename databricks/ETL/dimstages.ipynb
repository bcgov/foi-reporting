{
 "cells": [
  {
   "cell_type": "code",
   "execution_count": 0,
   "metadata": {
    "application/vnd.databricks.v1+cell": {
     "cellMetadata": {
      "byteLimit": 2048000,
      "implicitDf": true,
      "rowLimit": 10000
     },
     "inputWidgets": {},
     "nuid": "a21b84d7-386a-4c34-8184-2dc873999dfd",
     "showTitle": false,
     "tableResultSettingsMap": {},
     "title": ""
    }
   },
   "outputs": [],
   "source": [
    "# %sql\n",
    "\n",
    "# select * from dimruncycle\n",
    "# order by runcycleid desc\n",
    "# limit 1;\n",
    "\n",
    "# -- DROP TABLE IF EXISTS dimstages;\n",
    "\n",
    "# -- CREATE TABLE dimstages\n",
    "# -- USING DELTA AS\n",
    "# --     SELECT\n",
    "# --         stageid,\n",
    "# --         name,\n",
    "# --         CAST(NULL AS STRING) AS description,\n",
    "# --         CASE\n",
    "# --             WHEN isactive = true THEN 'Y'\n",
    "# --         ELSE\n",
    "# --             'N'\n",
    "# --         END AS cactive,\n",
    "# --         'FOIMOD' AS sourceoftruth\n",
    "# --     FROM foi_mod.programareadivisionstages\n",
    "# --     order by stageid;"
   ]
  },
  {
   "cell_type": "code",
   "execution_count": 0,
   "metadata": {
    "application/vnd.databricks.v1+cell": {
     "cellMetadata": {
      "byteLimit": 2048000,
      "rowLimit": 10000
     },
     "inputWidgets": {},
     "nuid": "0aa8b895-91fe-488b-925b-b20327d4eb3e",
     "showTitle": false,
     "tableResultSettingsMap": {},
     "title": ""
    }
   },
   "outputs": [],
   "source": [
    "%restart_python\n",
    "%pip install boto3\n",
    "import boto3\n",
    "import os\n",
    "from botocore.exceptions import NoCredentialsError\n",
    "import datetime\n",
    "import sys\n",
    "sys.path.insert(0, '/Workspace/Shared')\n",
    "import etl_helpers\n",
    "from pyspark.sql.functions import col #lit\n",
    "\n",
    "tablename = \"dimstages\"\n",
    "runcycleid = etl_helpers.start_run_cycle(tablename)\n",
    "os.makedirs(\"/dbfs/foi/dataload\", exist_ok=True)  # make sure directory exists\n",
    "\n",
    "try:\n",
    "    query = f\"\"\"\n",
    "        SELECT\n",
    "            stageid,\n",
    "            name,\n",
    "            CAST(NULL AS STRING) AS description,\n",
    "            CASE\n",
    "                WHEN isactive = true THEN 'Y'\n",
    "            ELSE\n",
    "                'N'\n",
    "            END AS cactive,\n",
    "            'FOIMOD' AS sourceoftruth\n",
    "        FROM foi_mod.programareadivisionstages\n",
    "        order by stageid;\n",
    "        \"\"\"\n",
    "\n",
    "    # print(query)\n",
    "\n",
    "    df = spark.sql(query)\n",
    "    df.show()\n",
    "\n",
    "    # order of columns here is important!\n",
    "    df_mapped = df.selectExpr(\n",
    "            \"stageid AS stageid\",\n",
    "            \"name AS name\",\n",
    "            \"description AS description\",\n",
    "            \"cactive AS cactive\",\n",
    "            \"sourceoftruth AS sourceoftruth\"\n",
    "        )\n",
    "    df_mapped.show()\n",
    "\n",
    "    from delta.tables import DeltaTable\n",
    "    delta_table = DeltaTable.forName(spark, f\"hive_metastore.default.{tablename}\")\n",
    "    delta_table.alias(\"target\").merge(\n",
    "        df_mapped.alias(\"source\"),\n",
    "        \"target.stageid = source.stageid AND target.sourceoftruth = source.sourceoftruth\"\n",
    "    ).whenMatchedUpdate(set = {\n",
    "        \"name\": col(\"source.name\"),\n",
    "        \"description\": col(\"source.description\"),\n",
    "        \"cactive\": col(\"source.cactive\")\n",
    "    }).whenNotMatchedInsert(values = {\n",
    "        \"stageid\": col(\"source.stageid\"),\n",
    "        \"name\": col(\"source.name\"),\n",
    "        \"description\": col(\"source.description\"),\n",
    "        \"cactive\": col(\"source.cactive\"),\n",
    "        \"sourceoftruth\": col(\"source.sourceoftruth\")\n",
    "    }).execute()\n",
    "\n",
    "    etl_helpers.end_run_cycle(runcycleid, 't', tablename)\n",
    "except NoCredentialsError:\n",
    "    print(\"Credentials not available\")\n",
    "    etl_helpers.end_run_cycle(runcycleid, 'f', tablename, \"Credentials not available\")\n",
    "    dbutils.notebook.exit(\"Error: Something went wrong.\")\n",
    "except Exception as e:\n",
    "    if (str(e) == \"no changes for today\"):\n",
    "        print(\"here\")\n",
    "        etl_helpers.end_run_cycle(runcycleid, 't', tablename)\n",
    "    else:\n",
    "        print(f\"An error occurred: {e}\")    \n",
    "        etl_helpers.end_run_cycle(runcycleid, 'f', tablename, f\"An error occurred: {e}\")\n",
    "        dbutils.notebook.exit(\"Error: Something went wrong.\")"
   ]
  }
 ],
 "metadata": {
  "application/vnd.databricks.v1+notebook": {
   "computePreferences": null,
   "dashboards": [],
   "environmentMetadata": {
    "base_environment": "",
    "environment_version": "2"
   },
   "inputWidgetPreferences": null,
   "language": "python",
   "notebookMetadata": {
    "mostRecentlyExecutedCommandWithImplicitDF": {
     "commandId": 4530254519177306,
     "dataframes": [
      "_sqldf"
     ]
    },
    "pythonIndentUnit": 4
   },
   "notebookName": "dimstages",
   "widgets": {}
  },
  "language_info": {
   "name": "python"
  }
 },
 "nbformat": 4,
 "nbformat_minor": 0
}

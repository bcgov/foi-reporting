{
 "cells": [
  {
   "cell_type": "code",
   "execution_count": 0,
   "metadata": {
    "application/vnd.databricks.v1+cell": {
     "cellMetadata": {
      "byteLimit": 2048000,
      "implicitDf": true,
      "rowLimit": 10000
     },
     "inputWidgets": {},
     "nuid": "45bcd6e0-372d-410e-9225-ca885ae06f6f",
     "showTitle": false,
     "tableResultSettingsMap": {},
     "title": ""
    }
   },
   "outputs": [],
   "source": [
    "# %sql\n",
    "\n",
    "# select * from dimruncycle\n",
    "# order by runcycleid desc\n",
    "# limit 1;"
   ]
  },
  {
   "cell_type": "code",
   "execution_count": 0,
   "metadata": {
    "application/vnd.databricks.v1+cell": {
     "cellMetadata": {
      "byteLimit": 2048000,
      "implicitDf": true,
      "rowLimit": 10000
     },
     "inputWidgets": {},
     "nuid": "9a7357bb-a0cf-4034-badd-9c7cea67a88d",
     "showTitle": false,
     "tableResultSettingsMap": {},
     "title": ""
    }
   },
   "outputs": [],
   "source": [
    "# %sql\n",
    "\n",
    "# -- select * from foi_mod.foirequestoipc\n",
    "# -- order by oipcid desc\n",
    "# -- limit 100;\n",
    "\n",
    "\n",
    "# -- select\n",
    "# -- \tmr.foirequest_id as foirequestid,\n",
    "# -- \t0 as runcycleid,\n",
    "# -- \troipc.oipcno as orderno,\n",
    "# -- \to.name as outcome,\n",
    "# --     CASE\n",
    "# --         WHEN roipc.isinquiry = 'NULL' THEN null\n",
    "# --     ELSE\n",
    "# --         try_cast(get_json_object(inquiryattributes, '$.inquirydate') AS DATE)\n",
    "# --     END AS inquirydate,\n",
    "# -- \troipc.isinquiry as activeflag\n",
    "# -- from foi_mod.foirequestoipc roipc\n",
    "# -- inner join foi_mod.foiministryrequests mr on roipc.foiministryrequest_id = mr.foiministryrequestid and roipc.foiministryrequestversion_id = mr.version\n",
    "# -- left join foi_mod.oipcoutcomes o on try_cast(roipc.outcomeid AS INT) = o.outcomeid\n",
    "# -- where roipc.created_at > '2025-01-01';"
   ]
  },
  {
   "cell_type": "code",
   "execution_count": 0,
   "metadata": {
    "application/vnd.databricks.v1+cell": {
     "cellMetadata": {
      "byteLimit": 2048000,
      "rowLimit": 10000
     },
     "inputWidgets": {},
     "nuid": "0aa8b895-91fe-488b-925b-b20327d4eb3e",
     "showTitle": false,
     "tableResultSettingsMap": {},
     "title": ""
    }
   },
   "outputs": [],
   "source": [
    "%restart_python\n",
    "%pip install boto3\n",
    "import boto3\n",
    "import os\n",
    "from botocore.exceptions import NoCredentialsError\n",
    "import datetime\n",
    "import sys\n",
    "sys.path.insert(0, '/Workspace/Shared')\n",
    "import etl_helpers\n",
    "from pyspark.sql.functions import lit\n",
    "\n",
    "tablename = \"factrequestoipcfields\"\n",
    "runcycleid = etl_helpers.start_run_cycle(tablename)\n",
    "os.makedirs(\"/dbfs/foi/dataload\", exist_ok=True)  # make sure directory exists\n",
    "\n",
    "try:\n",
    "\n",
    "    df_lastrun = spark.sql(f\"SELECT runcyclestartat as createddate FROM dimruncycle WHERE packagename = \\\"{tablename}\\\" AND success = 't' ORDER BY runcycleid DESC LIMIT 1\")\n",
    "    \n",
    "    if df_lastrun.count() > 0:\n",
    "        lastruntime = df_lastrun.first().createddate.strftime(\"%Y-%m-%d %H:%M:%S\")\n",
    "    else:\n",
    "        lastruntime = \"2019-01-01 00:00:00\"\n",
    "    print(lastruntime)\n",
    "\n",
    "    query = f\"\"\"\n",
    "        SELECT\n",
    "            mr.foirequest_id as foirequestid,\n",
    "            {runcycleid} as runcycleid,\n",
    "            roipc.oipcno as orderno,\n",
    "            o.name as outcome,\n",
    "            CASE\n",
    "                WHEN roipc.isinquiry = 'NULL' THEN null\n",
    "            ELSE\n",
    "                try_cast(get_json_object(inquiryattributes, '$.inquirydate') AS DATE)\n",
    "            END AS inquirydate,\n",
    "            roipc.isinquiry as activeflag,\n",
    "            'FOIMOD' AS sourceoftruth\n",
    "        FROM foi_mod.foirequestoipc roipc\n",
    "        INNER JOIN foi_mod.foiministryrequests mr on roipc.foiministryrequest_id = mr.foiministryrequestid and roipc.foiministryrequestversion_id = mr.version\n",
    "        LEFT JOIN foi_mod.oipcoutcomes o on try_cast(roipc.outcomeid AS INT) = o.outcomeid\n",
    "        WHERE roipc.created_at > '{lastruntime}'\n",
    "    \"\"\"\n",
    "\n",
    "    # print(query)\n",
    "\n",
    "    df = spark.sql(query)\n",
    "    df.show()\n",
    "\n",
    "    # order of columns here is important!\n",
    "    df_mapped = df.selectExpr(\n",
    "            \"foirequestid AS foirequestid\",\n",
    "            \"runcycleid AS runcycleid\",\n",
    "            \"orderno AS orderno\",\n",
    "            \"outcome AS outcome\",\n",
    "            \"inquirydate AS inquirydate\",\n",
    "            \"activeflag AS activeflag\",\n",
    "            \"sourceoftruth AS sourceoftruth\"\n",
    "        )\n",
    "    df_mapped.show()\n",
    "\n",
    "    from delta.tables import DeltaTable\n",
    "    delta_table = DeltaTable.forName(spark, f\"hive_metastore.default.{tablename}\")\n",
    "    delta_table.alias(\"target\").merge(\n",
    "        df_mapped.alias(\"source\"),\n",
    "        \"target.foirequestid = source.foirequestid AND target.orderno = source.orderno AND target.sourceoftruth = source.sourceoftruth\"\n",
    "    ).whenMatchedUpdate(\n",
    "        condition = \"target.activeflag = 't'\",\n",
    "        set = {\n",
    "            \"activeflag\": lit(\"f\"),\n",
    "        }\n",
    "    ).whenNotMatchedInsert(values = {\n",
    "        \"foirequestid\": \"source.foirequestid\",\n",
    "        \"runcycleid\": \"source.runcycleid\",\n",
    "        \"orderno\": \"source.orderno\",\n",
    "        \"outcome\": \"source.outcome\",\n",
    "        \"inquirydate\": \"source.inquirydate\",\n",
    "        \"activeflag\": \"source.activeflag\",\n",
    "        \"sourceoftruth\": \"source.sourceoftruth\"\n",
    "    }).execute()\n",
    "\n",
    "    etl_helpers.end_run_cycle(runcycleid, 't', tablename)\n",
    "except NoCredentialsError:\n",
    "    print(\"Credentials not available\")\n",
    "    etl_helpers.end_run_cycle(runcycleid, 'f', tablename, \"Credentials not available\")\n",
    "    dbutils.notebook.exit(\"Error: Something went wrong.\")\n",
    "except Exception as e:\n",
    "    if (str(e) == \"no changes for today\"):\n",
    "        print(\"here\")\n",
    "        etl_helpers.end_run_cycle(runcycleid, 't', tablename)\n",
    "    else:\n",
    "        print(f\"An error occurred: {e}\")    \n",
    "        etl_helpers.end_run_cycle(runcycleid, 'f', tablename, f\"An error occurred: {e}\")\n",
    "        dbutils.notebook.exit(\"Error: Something went wrong.\")"
   ]
  }
 ],
 "metadata": {
  "application/vnd.databricks.v1+notebook": {
   "computePreferences": null,
   "dashboards": [],
   "environmentMetadata": {
    "base_environment": "",
    "environment_version": "2"
   },
   "inputWidgetPreferences": null,
   "language": "python",
   "notebookMetadata": {
    "mostRecentlyExecutedCommandWithImplicitDF": {
     "commandId": 2829825448994105,
     "dataframes": [
      "_sqldf"
     ]
    },
    "pythonIndentUnit": 4
   },
   "notebookName": "factrequestoipcfields",
   "widgets": {}
  },
  "language_info": {
   "name": "python"
  }
 },
 "nbformat": 4,
 "nbformat_minor": 0
}

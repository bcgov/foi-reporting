{
 "cells": [
  {
   "cell_type": "code",
   "execution_count": 0,
   "metadata": {
    "application/vnd.databricks.v1+cell": {
     "cellMetadata": {
      "byteLimit": 2048000,
      "rowLimit": 10000
     },
     "inputWidgets": {},
     "nuid": "b37cb40d-91d2-441f-95fe-0b5dcfdce2c2",
     "showTitle": false,
     "tableResultSettingsMap": {},
     "title": ""
    }
   },
   "outputs": [],
   "source": [
    "%restart_python\n",
    "%pip install boto3\n",
    "import boto3\n",
    "import os\n",
    "from botocore.exceptions import NoCredentialsError\n",
    "import datetime\n",
    "import sys\n",
    "sys.path.insert(0, '/Workspace/Shared')\n",
    "import etl_helpers \n",
    "\n",
    "runcycleid = etl_helpers.start_run_cycle(\"dimdeliverymodes\")\n",
    "\n",
    "os.makedirs(\"/dbfs/foi/dataload\", exist_ok=True)  # make sure directory exists\n",
    "\n",
    "try:\n",
    "    tablename = \"dimdeliverymodes\"\n",
    "    spark.sql(f\"DROP TABLE IF EXISTS {tablename};\")\n",
    "\n",
    "    query = f\"\"\"\n",
    "        CREATE TABLE {tablename}\n",
    "        USING DELTA AS\n",
    "            SELECT\n",
    "                deliverymodeid,\n",
    "                NULL AS createddate,\n",
    "                NULL AS modifieddate,\n",
    "                NULL AS cpal,\n",
    "                NULL AS cdefault,\n",
    "                NULL AS cdelete,\n",
    "                name AS deliverymodename,\n",
    "                CASE\n",
    "                    WHEN isactive = TRUE THEN 'Y'\n",
    "                ELSE\n",
    "                    'N'\n",
    "                END AS cactive\n",
    "                FROM foi_mod.deliverymodes\n",
    "                order by deliverymodeid;  \n",
    "        \"\"\"\n",
    "\n",
    "    # print(query)\n",
    "\n",
    "    df = spark.sql(query)\n",
    "    df.show()\n",
    "\n",
    "    etl_helpers.end_run_cycle(runcycleid, 't', \"dimdeliverymodes\")\n",
    "except NoCredentialsError:\n",
    "    print(\"Credentials not available\")\n",
    "    etl_helpers.end_run_cycle(runcycleid, 'f', \"dimdeliverymodes\", \"Credentials not available\")\n",
    "except Exception as e:\n",
    "    if (str(e) == \"no changes for today\"):\n",
    "        print(\"here\")\n",
    "        etl_helpers.end_run_cycle(runcycleid, 't', \"dimdeliverymodes\")\n",
    "    else:\n",
    "        print(f\"An error occurred: {e}\")    \n",
    "        etl_helpers.end_run_cycle(runcycleid, 'f', \"dimdeliverymodes\", f\"An error occurred: {e}\")"
   ]
  }
 ],
 "metadata": {
  "application/vnd.databricks.v1+notebook": {
   "computePreferences": null,
   "dashboards": [],
   "environmentMetadata": {
    "base_environment": "",
    "environment_version": "2"
   },
   "inputWidgetPreferences": null,
   "language": "python",
   "notebookMetadata": {
    "mostRecentlyExecutedCommandWithImplicitDF": {
     "commandId": 8072639705670317,
     "dataframes": [
      "_sqldf"
     ]
    },
    "pythonIndentUnit": 4
   },
   "notebookName": "dimdeliverymodes",
   "widgets": {}
  },
  "language_info": {
   "name": "python"
  }
 },
 "nbformat": 4,
 "nbformat_minor": 0
}

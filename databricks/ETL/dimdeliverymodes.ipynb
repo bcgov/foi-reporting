{
 "cells": [
  {
   "cell_type": "code",
   "execution_count": 0,
   "metadata": {
    "application/vnd.databricks.v1+cell": {
     "cellMetadata": {
      "byteLimit": 2048000,
      "implicitDf": true,
      "rowLimit": 10000
     },
     "inputWidgets": {},
     "nuid": "bb816e1e-ca9b-4806-8d0e-7616f491ae7d",
     "showTitle": false,
     "tableResultSettingsMap": {},
     "title": ""
    }
   },
   "outputs": [],
   "source": [
    "# %sql\n",
    "\n",
    "# select * from dimruncycle\n",
    "# order by runcycleid desc\n",
    "# limit 1;\n",
    "\n",
    "# -- DROP TABLE IF EXISTS dimdeliverymodes;\n",
    "\n",
    "# CREATE TABLE dimdeliverymodes\n",
    "# USING DELTA AS\n",
    "#     SELECT\n",
    "#         deliverymodeid,\n",
    "#         CAST(NULL AS TIMESTAMP) AS createddate,\n",
    "#         CAST(NULL AS TIMESTAMP) AS modifieddate,\n",
    "#         CAST(NULL AS STRING) AS cpal,\n",
    "#         CAST(NULL AS STRING) AS cdefault,\n",
    "#         CAST(NULL AS STRING) AS cdelete,\n",
    "#         name AS deliverymodename,\n",
    "#         CASE\n",
    "#             WHEN isactive = TRUE THEN 'Y'\n",
    "#         ELSE\n",
    "#             'N'\n",
    "#         END AS cactive,\n",
    "#         'FOIMOD' AS sourceoftruth\n",
    "#     FROM foi_mod.deliverymodes\n",
    "#     order by deliverymodeid;\n"
   ]
  },
  {
   "cell_type": "code",
   "execution_count": 0,
   "metadata": {
    "application/vnd.databricks.v1+cell": {
     "cellMetadata": {
      "byteLimit": 2048000,
      "rowLimit": 10000
     },
     "inputWidgets": {},
     "nuid": "b37cb40d-91d2-441f-95fe-0b5dcfdce2c2",
     "showTitle": false,
     "tableResultSettingsMap": {},
     "title": ""
    }
   },
   "outputs": [],
   "source": [
    "%restart_python\n",
    "%pip install boto3\n",
    "import boto3\n",
    "import os\n",
    "from botocore.exceptions import NoCredentialsError\n",
    "import datetime\n",
    "import sys\n",
    "sys.path.insert(0, '/Workspace/Shared')\n",
    "import etl_helpers\n",
    "from pyspark.sql.functions import col #lit\n",
    "# from pyspark.sql.types import StringType, TimestampType #IntegerType, BooleanType\n",
    "\n",
    "tablename = \"dimdeliverymodes\"\n",
    "runcycleid = etl_helpers.start_run_cycle(tablename)\n",
    "os.makedirs(\"/dbfs/foi/dataload\", exist_ok=True)  # make sure directory exists\n",
    "\n",
    "try:\n",
    "    query = f\"\"\"\n",
    "        SELECT\n",
    "            deliverymodeid,\n",
    "            CAST(NULL AS TIMESTAMP) AS createddate,\n",
    "            CAST(NULL AS TIMESTAMP) AS modifieddate,\n",
    "            CAST(NULL AS STRING) AS cpal,\n",
    "            CAST(NULL AS STRING) AS cdefault,\n",
    "            CAST(NULL AS STRING) AS cdelete,\n",
    "            name AS deliverymodename,\n",
    "            CASE\n",
    "                WHEN isactive = TRUE THEN 'Y'\n",
    "            ELSE\n",
    "                'N'\n",
    "            END AS cactive,\n",
    "            'FOIMOD' AS sourceoftruth\n",
    "        FROM foi_mod.deliverymodes\n",
    "        order by deliverymodeid;\n",
    "        \"\"\"\n",
    "\n",
    "    # print(query)\n",
    "\n",
    "    df = spark.sql(query)\n",
    "    df.show()\n",
    "\n",
    "    # order of columns here is important!\n",
    "    df_mapped = df.selectExpr(\n",
    "            \"deliverymodeid AS deliverymodeid\",\n",
    "            \"createddate AS createddate\",\n",
    "            \"modifieddate AS modifieddate\",\n",
    "            \"cpal AS cpal\",\n",
    "            \"cdefault AS cdefault\",\n",
    "            \"cdelete AS cdelete\",\n",
    "            \"deliverymodename AS deliverymodename\",\n",
    "            \"cactive as cactive\",\n",
    "            \"sourceoftruth AS sourceoftruth\"\n",
    "        )\n",
    "    # df_mapped = df_mapped.withColumn(\"createddate\", col(\"createddate\").cast(TimestampType()))\n",
    "    # df_mapped = df_mapped.withColumn(\"modifieddate\", col(\"modifieddate\").cast(TimestampType()))\n",
    "    # df_mapped = df_mapped.withColumn(\"cpal\", col(\"cpal\").cast(StringType()))\n",
    "    # df_mapped = df_mapped.withColumn(\"cdefault\", col(\"cdefault\").cast(StringType()))\n",
    "    # df_mapped = df_mapped.withColumn(\"cdelete\", col(\"cdelete\").cast(StringType()))\n",
    "    df_mapped.show()\n",
    "\n",
    "    from delta.tables import DeltaTable\n",
    "    delta_table = DeltaTable.forName(spark, f\"hive_metastore.default.{tablename}\")\n",
    "    delta_table.alias(\"target\").merge(\n",
    "        df_mapped.alias(\"source\"),\n",
    "        \"target.deliverymodeid = source.deliverymodeid AND target.sourceoftruth = source.sourceoftruth\"\n",
    "    ).whenMatchedUpdate(set = {\n",
    "        \"createddate\": col(\"source.createddate\"),\n",
    "        \"modifieddate\": col(\"source.modifieddate\"),\n",
    "        \"cpal\": col(\"source.cpal\"),\n",
    "        \"cdefault\": col(\"source.cdefault\"),\n",
    "        \"cdelete\": col(\"source.cdelete\"),\n",
    "        \"deliverymodename\": col(\"source.deliverymodename\"),\n",
    "        \"cactive\": col(\"source.cactive\")\n",
    "    }).whenNotMatchedInsert(values = {\n",
    "        \"deliverymodeid\": col(\"source.deliverymodeid\"),\n",
    "        \"createddate\": col(\"source.createddate\"),\n",
    "        \"modifieddate\": col(\"source.modifieddate\"),\n",
    "        \"cpal\": col(\"source.cpal\"),\n",
    "        \"cdefault\": col(\"source.cdefault\"),\n",
    "        \"cdelete\": col(\"source.cdelete\"),\n",
    "        \"deliverymodename\": col(\"source.deliverymodename\"),\n",
    "        \"cactive\": col(\"source.cactive\"),\n",
    "        \"sourceoftruth\": col(\"source.sourceoftruth\")\n",
    "    }).execute()\n",
    "\n",
    "    etl_helpers.end_run_cycle(runcycleid, 't', tablename)\n",
    "except NoCredentialsError:\n",
    "    print(\"Credentials not available\")\n",
    "    etl_helpers.end_run_cycle(runcycleid, 'f', tablename, \"Credentials not available\")\n",
    "except Exception as e:\n",
    "    if (str(e) == \"no changes for today\"):\n",
    "        print(\"here\")\n",
    "        etl_helpers.end_run_cycle(runcycleid, 't', tablename)\n",
    "    else:\n",
    "        print(f\"An error occurred: {e}\")    \n",
    "        etl_helpers.end_run_cycle(runcycleid, 'f', tablename, f\"An error occurred: {e}\")"
   ]
  }
 ],
 "metadata": {
  "application/vnd.databricks.v1+notebook": {
   "computePreferences": null,
   "dashboards": [],
   "environmentMetadata": {
    "base_environment": "",
    "environment_version": "2"
   },
   "inputWidgetPreferences": null,
   "language": "python",
   "notebookMetadata": {
    "mostRecentlyExecutedCommandWithImplicitDF": {
     "commandId": -1,
     "dataframes": [
      "_sqldf"
     ]
    },
    "pythonIndentUnit": 4
   },
   "notebookName": "dimdeliverymodes",
   "widgets": {}
  },
  "language_info": {
   "name": "python"
  }
 },
 "nbformat": 4,
 "nbformat_minor": 0
}

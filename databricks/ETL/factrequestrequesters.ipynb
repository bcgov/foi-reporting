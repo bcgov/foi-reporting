{
 "cells": [
  {
   "cell_type": "code",
   "execution_count": 0,
   "metadata": {
    "application/vnd.databricks.v1+cell": {
     "cellMetadata": {
      "byteLimit": 2048000,
      "rowLimit": 10000
     },
     "inputWidgets": {},
     "nuid": "e14ac36b-cc36-4057-8582-de148e6c52ff",
     "showTitle": false,
     "tableResultSettingsMap": {},
     "title": ""
    }
   },
   "outputs": [],
   "source": [
    "# %sql\n",
    "\n",
    "# select * from dimruncycle\n",
    "# order by runcycleid desc\n",
    "# limit 1;"
   ]
  },
  {
   "cell_type": "code",
   "execution_count": 0,
   "metadata": {
    "application/vnd.databricks.v1+cell": {
     "cellMetadata": {
      "byteLimit": 2048000,
      "rowLimit": 10000
     },
     "inputWidgets": {},
     "nuid": "0aa8b895-91fe-488b-925b-b20327d4eb3e",
     "showTitle": false,
     "tableResultSettingsMap": {},
     "title": ""
    }
   },
   "outputs": [],
   "source": [
    "%restart_python\n",
    "%pip install boto3\n",
    "import boto3\n",
    "import os\n",
    "from botocore.exceptions import NoCredentialsError\n",
    "import datetime\n",
    "import sys\n",
    "sys.path.insert(0, '/Workspace/Shared')\n",
    "import etl_helpers \n",
    "from pyspark.sql.functions import col, lit\n",
    "\n",
    "tablename = \"factrequestrequesters\"\n",
    "runcycleid = etl_helpers.start_run_cycle(tablename)\n",
    "os.makedirs(\"/dbfs/foi/dataload\", exist_ok=True)  # make sure directory exists\n",
    "\n",
    "try:\n",
    "\n",
    "    df_lastrun = spark.sql(f\"SELECT runcyclestartat as createddate FROM dimruncycle WHERE packagename = \\\"{tablename}\\\" AND success = 't' ORDER BY runcycleid DESC LIMIT 1\")\n",
    "    \n",
    "    if df_lastrun.count() > 0:\n",
    "        lastruntime = df_lastrun.first().createddate.strftime(\"%Y-%m-%d %H:%M:%S\")\n",
    "    else:\n",
    "        lastruntime = \"2019-01-01 00:00:00\"\n",
    "    print(lastruntime)\n",
    "\n",
    "    query = f\"\"\"\n",
    "        SELECT\n",
    "            mappings.foirequest_id as foirequestid,\n",
    "            {runcycleid} as runcycleid,\n",
    "            CASE\n",
    "                WHEN r.requesttype = 'personal' THEN 33\n",
    "            ELSE\n",
    "                31\n",
    "            END AS requesttypeid,\n",
    "            r.applicantcategoryid as applicantcategoryid,\n",
    "            mappings.requestortypeid as requestertypeid,\n",
    "            a.foirequestapplicantid AS requesterid,\n",
    "            a.created_at as createddate,\n",
    "            CASE\n",
    "                WHEN a.updated_at = 'NULL' THEN NULL\n",
    "            ELSE\n",
    "                a.updated_at\n",
    "            END as modifieddate,\n",
    "            't' AS activeflag,\n",
    "            'FOIMOD' AS sourceoftruth\n",
    "        FROM foi_mod.foirequestapplicantmappings mappings\n",
    "        INNER JOIN (\n",
    "            SELECT\n",
    "                foirequest_id,\n",
    "                MAX(foirequestversion_id) AS max_foirequestversion_id\n",
    "            FROM foi_mod.foirequestapplicantmappings\n",
    "            GROUP BY foirequest_id\n",
    "        ) AS maxversion ON mappings.foirequest_id = maxversion.foirequest_id AND mappings.foirequestversion_id = maxversion.max_foirequestversion_id\n",
    "        INNER JOIN\n",
    "            foi_mod.foirequestapplicants a ON a.foirequestapplicantid = mappings.foirequestapplicantid\n",
    "        INNER JOIN\n",
    "            foi_mod.foirequests r ON r.foirequestid = mappings.foirequest_id AND r.version = mappings.foirequestversion_id\n",
    "        WHERE\n",
    "            a.created_at > '{lastruntime}' OR a.updated_at > '{lastruntime}'\n",
    "        ORDER BY a.foirequestapplicantid\n",
    "    \"\"\"\n",
    "\n",
    "    # print(query)\n",
    "\n",
    "    df = spark.sql(query)\n",
    "    df.show()\n",
    "\n",
    "    # order of columns here is important!\n",
    "    df_mapped = df.selectExpr(\n",
    "            \"foirequestid AS foirequestid\",\n",
    "            \"runcycleid AS runcycleid\",\n",
    "            \"requesttypeid AS requesttypeid\",\n",
    "            \"applicantcategoryid AS applicantcategoryid\",\n",
    "            \"requestertypeid AS requestertypeid\",\n",
    "            \"requesterid AS requesterid\",\n",
    "            \"createddate AS createddate\",\n",
    "            \"modifieddate AS modifieddate\",\n",
    "            \"activeflag AS activeflag\",\n",
    "            \"sourceoftruth AS sourceoftruth\"\n",
    "        )\n",
    "    df_mapped.show()\n",
    "\n",
    "    from delta.tables import DeltaTable\n",
    "    delta_table = DeltaTable.forName(spark, f\"hive_metastore.default.{tablename}\")\n",
    "    delta_table.alias(\"target\").merge(\n",
    "        df_mapped.alias(\"source\"),\n",
    "        \"target.foirequestid = source.foirequestid AND target.sourceoftruth = source.sourceoftruth AND target.requestertypeid = source.requestertypeid\"\n",
    "    ).whenMatchedUpdate(\n",
    "        condition = \"target.activeflag = 't'\",\n",
    "        set = {\n",
    "            \"activeflag\": lit(\"f\"),\n",
    "        }\n",
    "    ).whenNotMatchedInsert(\n",
    "        values = {\n",
    "            \"foirequestid\": \"source.foirequestid\",\n",
    "            \"runcycleid\": \"source.runcycleid\",\n",
    "            \"requesttypeid\": \"source.requesttypeid\",\n",
    "            \"applicantcategoryid\": \"source.applicantcategoryid\",\n",
    "            \"requestertypeid\": \"source.requestertypeid\",\n",
    "            \"requesterid\": \"source.requesterid\",\n",
    "            \"createddate\": \"source.createddate\",\n",
    "            \"modifieddate\": \"source.modifieddate\",\n",
    "            \"activeflag\": \"source.activeflag\",\n",
    "            \"sourceoftruth\": \"source.sourceoftruth\"\n",
    "        }\n",
    "    ).execute()\n",
    "\n",
    "    etl_helpers.end_run_cycle(runcycleid, 't', tablename)\n",
    "except NoCredentialsError:\n",
    "    print(\"Credentials not available\")\n",
    "    etl_helpers.end_run_cycle(runcycleid, 'f', tablename, \"Credentials not available\")\n",
    "except Exception as e:\n",
    "    if (str(e) == \"no changes for today\"):\n",
    "        print(\"here\")\n",
    "        etl_helpers.end_run_cycle(runcycleid, 't', tablename)\n",
    "    else:\n",
    "        print(f\"An error occurred: {e}\")    \n",
    "        etl_helpers.end_run_cycle(runcycleid, 'f', tablename, f\"An error occurred: {e}\")"
   ]
  }
 ],
 "metadata": {
  "application/vnd.databricks.v1+notebook": {
   "computePreferences": null,
   "dashboards": [],
   "environmentMetadata": {
    "base_environment": "",
    "environment_version": "2"
   },
   "inputWidgetPreferences": null,
   "language": "python",
   "notebookMetadata": {
    "mostRecentlyExecutedCommandWithImplicitDF": {
     "commandId": 4454820792234965,
     "dataframes": [
      "_sqldf"
     ]
    },
    "pythonIndentUnit": 4
   },
   "notebookName": "factrequestrequesters",
   "widgets": {}
  },
  "language_info": {
   "name": "python"
  }
 },
 "nbformat": 4,
 "nbformat_minor": 0
}

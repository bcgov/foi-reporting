{
 "cells": [
  {
   "cell_type": "code",
   "execution_count": 0,
   "metadata": {
    "application/vnd.databricks.v1+cell": {
     "cellMetadata": {
      "byteLimit": 2048000,
      "implicitDf": true,
      "rowLimit": 10000
     },
     "inputWidgets": {},
     "nuid": "b0084095-a71c-457c-be1d-f7e13438b27c",
     "showTitle": false,
     "tableResultSettingsMap": {},
     "title": ""
    }
   },
   "outputs": [],
   "source": [
    "# %sql\n",
    "\n",
    "# select * from dimruncycle\n",
    "# order by runcycleid desc\n",
    "# limit 1;\n",
    "\n",
    "# -- DROP TABLE IF EXISTS dimreceivedmodes;\n",
    "\n",
    "# -- CREATE TABLE dimreceivedmodes\n",
    "# -- USING DELTA AS\n",
    "# --     SELECT\n",
    "# --         receivedmodeid,\n",
    "# --         name AS receivedmodename,\n",
    "# --         CASE\n",
    "# --             WHEN isactive = true THEN 'Y'\n",
    "# --         ELSE\n",
    "# --             'N'\n",
    "# --         END AS cactive,\n",
    "# --         CAST(NULL AS TIMESTAMP) AS createddate,\n",
    "# --         CAST(NULL AS TIMESTAMP) AS modifieddate,\n",
    "# --         CAST(NULL AS STRING) AS cdelete,\n",
    "# --         'FOIMOD' AS sourceoftruth\n",
    "# --     FROM foi_mod.receivedmodes\n",
    "# --     order by receivedmodeid;\n"
   ]
  },
  {
   "cell_type": "code",
   "execution_count": 0,
   "metadata": {
    "application/vnd.databricks.v1+cell": {
     "cellMetadata": {
      "byteLimit": 2048000,
      "rowLimit": 10000
     },
     "inputWidgets": {},
     "nuid": "0aa8b895-91fe-488b-925b-b20327d4eb3e",
     "showTitle": false,
     "tableResultSettingsMap": {},
     "title": ""
    }
   },
   "outputs": [],
   "source": [
    "%restart_python\n",
    "%pip install boto3\n",
    "import boto3\n",
    "import os\n",
    "from botocore.exceptions import NoCredentialsError\n",
    "import datetime\n",
    "import sys\n",
    "sys.path.insert(0, '/Workspace/Shared')\n",
    "import etl_helpers\n",
    "from pyspark.sql.functions import col #lit\n",
    "\n",
    "tablename = \"dimreceivedmodes\"\n",
    "runcycleid = etl_helpers.start_run_cycle(f\"{tablename}\")\n",
    "os.makedirs(\"/dbfs/foi/dataload\", exist_ok=True)  # make sure directory exists\n",
    "\n",
    "try:\n",
    "    query = f\"\"\"\n",
    "        SELECT\n",
    "            receivedmodeid,\n",
    "            name AS receivedmodename,\n",
    "            CASE\n",
    "                WHEN isactive = true THEN 'Y'\n",
    "            ELSE\n",
    "                'N'\n",
    "            END AS cactive,\n",
    "            CAST(NULL AS TIMESTAMP) AS createddate,\n",
    "            CAST(NULL AS TIMESTAMP) AS modifieddate,\n",
    "            CAST(NULL AS STRING) AS cdelete,\n",
    "            'FOIMOD' AS sourceoftruth\n",
    "        FROM foi_mod.receivedmodes\n",
    "        order by receivedmodeid;\n",
    "        \"\"\"\n",
    "\n",
    "    # print(query)\n",
    "\n",
    "    df = spark.sql(query)\n",
    "    df.show()\n",
    "\n",
    "    # order of columns here is important!\n",
    "    df_mapped = df.selectExpr(\n",
    "            \"receivedmodeid AS receivedmodeid\",\n",
    "            \"receivedmodename AS receivedmodename\",\n",
    "            \"cactive as cactive\",\n",
    "            \"createddate AS createddate\",\n",
    "            \"modifieddate AS modifieddate\",\n",
    "            \"cdelete AS cdelete\",\n",
    "            \"sourceoftruth AS sourceoftruth\"\n",
    "        )\n",
    "    df_mapped.show()\n",
    "\n",
    "    from delta.tables import DeltaTable\n",
    "    delta_table = DeltaTable.forName(spark, f\"hive_metastore.default.{tablename}\")\n",
    "    delta_table.alias(\"target\").merge(\n",
    "        df_mapped.alias(\"source\"),\n",
    "        \"target.receivedmodeid = source.receivedmodeid AND target.sourceoftruth = source.sourceoftruth\"\n",
    "    ).whenMatchedUpdate(set = {\n",
    "        \"receivedmodename\": col(\"source.receivedmodename\"),\n",
    "        \"cactive\": col(\"source.cactive\"),\n",
    "        \"createddate\": col(\"source.createddate\"),\n",
    "        \"modifieddate\": col(\"source.modifieddate\"),\n",
    "        \"cdelete\": col(\"source.cdelete\")\n",
    "    }).whenNotMatchedInsert(values = {\n",
    "        \"receivedmodeid\": col(\"source.receivedmodeid\"),\n",
    "        \"receivedmodename\": col(\"source.receivedmodename\"),\n",
    "        \"cactive\": col(\"source.cactive\"),\n",
    "        \"createddate\": col(\"source.createddate\"),\n",
    "        \"modifieddate\": col(\"source.modifieddate\"),\n",
    "        \"cdelete\": col(\"source.cdelete\"),\n",
    "        \"sourceoftruth\": col(\"source.sourceoftruth\")\n",
    "    }).execute()\n",
    "\n",
    "    etl_helpers.end_run_cycle(runcycleid, 't', f\"{tablename}\")\n",
    "except NoCredentialsError:\n",
    "    print(\"Credentials not available\")\n",
    "    etl_helpers.end_run_cycle(runcycleid, 'f', f\"{tablename}\", \"Credentials not available\")\n",
    "    raise Exception(\"notebook failed\") from e\n",
    "except Exception as e:\n",
    "    if (str(e) == \"no changes for today\"):\n",
    "        print(\"here\")\n",
    "        etl_helpers.end_run_cycle(runcycleid, 't', f\"{tablename}\")\n",
    "    else:\n",
    "        print(f\"An error occurred: {e}\")    \n",
    "        etl_helpers.end_run_cycle(runcycleid, 'f', f\"{tablename}\", f\"An error occurred: {e}\")\n",
    "        raise Exception(\"notebook failed\") from e"
   ]
  }
 ],
 "metadata": {
  "application/vnd.databricks.v1+notebook": {
   "computePreferences": null,
   "dashboards": [],
   "environmentMetadata": {
    "base_environment": "",
    "environment_version": "2"
   },
   "inputWidgetPreferences": null,
   "language": "python",
   "notebookMetadata": {
    "mostRecentlyExecutedCommandWithImplicitDF": {
     "commandId": 4530254519177301,
     "dataframes": [
      "_sqldf"
     ]
    },
    "pythonIndentUnit": 4
   },
   "notebookName": "dimreceivedmodes",
   "widgets": {}
  },
  "language_info": {
   "name": "python"
  }
 },
 "nbformat": 4,
 "nbformat_minor": 0
}

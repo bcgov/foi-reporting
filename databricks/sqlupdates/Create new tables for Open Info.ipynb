{
 "cells": [
  {
   "cell_type": "code",
   "execution_count": 0,
   "metadata": {
    "application/vnd.databricks.v1+cell": {
     "cellMetadata": {
      "byteLimit": 2048000,
      "implicitDf": true,
      "rowLimit": 10000
     },
     "inputWidgets": {},
     "nuid": "0f55f3cb-1f9e-411b-a6a3-2dd09c8d1298",
     "showTitle": false,
     "tableResultSettingsMap": {},
     "title": ""
    }
   },
   "outputs": [],
   "source": [
    "%sql\n",
    "\n",
    "CREATE TABLE foi_mod.foiopeninformationrequests (\n",
    "    foiopeninforequestid INT,\n",
    "    version INT,\n",
    "    foiministryrequest_id INT,\n",
    "    foiministryrequestversion_id INT,\n",
    "    oiexemption_id INT,\n",
    "    oipublicationstatus_id INT,\n",
    "    oiassignedto STRING,\n",
    "    pagereference STRING,\n",
    "    oiexemptionapproved BOOLEAN,\n",
    "    iaorationale STRING,\n",
    "    oifeedback STRING,\n",
    "    publicationdate TIMESTAMP,\n",
    "    receiveddate TIMESTAMP,\n",
    "    copyrightsevered BOOLEAN,\n",
    "    isactive BOOLEAN,\n",
    "    created_at TIMESTAMP,\n",
    "    createdby STRING,\n",
    "    updated_at TIMESTAMP,\n",
    "    updatedby STRING,\n",
    "    processingstatus STRING,\n",
    "    processingmessage STRING,\n",
    "    sitemap_pages STRING\n",
    ") USING DELTA"
   ]
  },
  {
   "cell_type": "code",
   "execution_count": 0,
   "metadata": {
    "application/vnd.databricks.v1+cell": {
     "cellMetadata": {
      "byteLimit": 2048000,
      "implicitDf": true,
      "rowLimit": 10000
     },
     "inputWidgets": {},
     "nuid": "c45b0a47-d28f-4042-81f2-83bbe0c9da3c",
     "showTitle": false,
     "tableResultSettingsMap": {},
     "title": ""
    }
   },
   "outputs": [],
   "source": [
    "%sql\n",
    "\n",
    "CREATE TABLE foi_mod.openinfopublicationstatuses (\n",
    "    oipublicationstatusid INT,\n",
    "    name STRING,\n",
    "    isactive BOOLEAN\n",
    ") USING DELTA"
   ]
  },
  {
   "cell_type": "code",
   "execution_count": 0,
   "metadata": {
    "application/vnd.databricks.v1+cell": {
     "cellMetadata": {
      "byteLimit": 2048000,
      "implicitDf": true,
      "rowLimit": 10000
     },
     "inputWidgets": {},
     "nuid": "c4fa9503-d0ba-4db3-8109-b3c3b317d9d3",
     "showTitle": false,
     "tableResultSettingsMap": {},
     "title": ""
    }
   },
   "outputs": [],
   "source": [
    "%sql\n",
    "CREATE TABLE foi_mod.openinformationexemptions (\n",
    "    oiexemptionid INT,\n",
    "    name STRING,\n",
    "    isactive BOOLEAN\n",
    ") USING DELTA"
   ]
  },
  {
   "cell_type": "code",
   "execution_count": 0,
   "metadata": {
    "application/vnd.databricks.v1+cell": {
     "cellMetadata": {
      "byteLimit": 2048000,
      "implicitDf": true,
      "rowLimit": 10000
     },
     "inputWidgets": {},
     "nuid": "3ca270e8-f31a-4d99-a3c8-67497fb859e7",
     "showTitle": false,
     "tableResultSettingsMap": {},
     "title": ""
    }
   },
   "outputs": [],
   "source": [
    "%sql\n",
    "CREATE TABLE foi_mod.openinformationstatuses (\n",
    "    oistatusid INT,\n",
    "    name STRING,\n",
    "    isactive BOOLEAN\n",
    ") USING DELTA"
   ]
  }
 ],
 "metadata": {
  "application/vnd.databricks.v1+notebook": {
   "computePreferences": null,
   "dashboards": [],
   "environmentMetadata": {
    "base_environment": "",
    "environment_version": "3"
   },
   "inputWidgetPreferences": null,
   "language": "python",
   "notebookMetadata": {
    "mostRecentlyExecutedCommandWithImplicitDF": {
     "commandId": 6020038281960180,
     "dataframes": [
      "_sqldf"
     ]
    },
    "pythonIndentUnit": 4
   },
   "notebookName": "Create new tables for Open Info",
   "widgets": {}
  },
  "language_info": {
   "name": "python"
  }
 },
 "nbformat": 4,
 "nbformat_minor": 0
}

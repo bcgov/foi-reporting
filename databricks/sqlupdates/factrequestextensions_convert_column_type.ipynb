{
 "cells": [
  {
   "cell_type": "code",
   "execution_count": 0,
   "metadata": {
    "application/vnd.databricks.v1+cell": {
     "cellMetadata": {
      "byteLimit": 2048000,
      "rowLimit": 10000
     },
     "inputWidgets": {},
     "nuid": "fce80cb1-1bd9-403b-a2a0-aa6b91e148f4",
     "showTitle": false,
     "tableResultSettingsMap": {},
     "title": ""
    }
   },
   "outputs": [],
   "source": [
    "from pyspark.sql.functions import col\n",
    "\n",
    "table_name = \"default.factrequestextensions\"\n",
    "first_column_to_change = \"createdby\"\n",
    "second_column_to_change = \"modifiedby\"\n",
    "\n",
    "df = spark.read.table(table_name)\n",
    "\n",
    "print(\"Original Schema:\")\n",
    "spark.read.table(table_name).printSchema()\n",
    "\n",
    "# Cast the Column to STRING\n",
    "df_transformed = df.withColumn(first_column_to_change, col(first_column_to_change).try_cast(\"string\"))\n",
    "df_transformed = df_transformed.withColumn(second_column_to_change, col(second_column_to_change).try_cast(\"string\"))\n",
    "\n",
    "# Overwrite the Original Delta Table\n",
    "df_transformed.write \\\n",
    "  .format(\"delta\") \\\n",
    "  .mode(\"overwrite\") \\\n",
    "  .option(\"overwriteSchema\", \"true\") \\\n",
    "  .saveAsTable(table_name)\n",
    "\n",
    "print(\"\\nNew Schema:\")\n",
    "spark.read.table(table_name).printSchema()\n",
    "\n",
    "print(\"\\nData after conversion:\")\n",
    "spark.read.table(table_name).show()"
   ]
  }
 ],
 "metadata": {
  "application/vnd.databricks.v1+notebook": {
   "computePreferences": null,
   "dashboards": [],
   "environmentMetadata": {
    "base_environment": "",
    "environment_version": "2"
   },
   "inputWidgetPreferences": null,
   "language": "python",
   "notebookMetadata": {
    "pythonIndentUnit": 4
   },
   "notebookName": "factrequestextensions_convert_column_type",
   "widgets": {}
  },
  "language_info": {
   "name": "python"
  }
 },
 "nbformat": 4,
 "nbformat_minor": 0
}

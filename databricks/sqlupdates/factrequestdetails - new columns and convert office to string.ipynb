{
 "cells": [
  {
   "cell_type": "code",
   "execution_count": 0,
   "metadata": {
    "application/vnd.databricks.v1+cell": {
     "cellMetadata": {
      "byteLimit": 2048000,
      "implicitDf": true,
      "rowLimit": 10000
     },
     "inputWidgets": {},
     "nuid": "51d6c415-f198-46d9-acf9-2f3c6ed2d10e",
     "showTitle": false,
     "tableResultSettingsMap": {},
     "title": ""
    }
   },
   "outputs": [],
   "source": [
    "%sql\n",
    "\n",
    "-- select * from default.factrequestdetails\n",
    "-- order by foirequestid desc\n",
    "-- limit 100;\n",
    "\n",
    "-- Add 4 new columns\n",
    "ALTER TABLE default.factrequestdetails\n",
    "ADD COLUMNS (\n",
    "    assignedby STRING,\n",
    "    assignedto STRING\n",
    ");"
   ]
  },
  {
   "cell_type": "code",
   "execution_count": 0,
   "metadata": {
    "application/vnd.databricks.v1+cell": {
     "cellMetadata": {},
     "inputWidgets": {},
     "nuid": "2ab15181-7556-4dd5-b34b-09b71996987f",
     "showTitle": false,
     "tableResultSettingsMap": {},
     "title": ""
    }
   },
   "outputs": [],
   "source": [
    "from pyspark.sql.functions import col\n",
    "\n",
    "table_name = \"default.factrequestdetails\"\n",
    "column_to_change = \"officeid\"\n",
    "\n",
    "df = spark.read.table(table_name)\n",
    "\n",
    "print(\"Original Schema:\")\n",
    "spark.read.table(table_name).printSchema()\n",
    "\n",
    "# Cast the Column to STRING\n",
    "df_transformed = df.withColumn(column_to_change, col(column_to_change).try_cast(\"string\"))\n",
    "\n",
    "# Overwrite the Original Delta Table\n",
    "df_transformed.write \\\n",
    "  .format(\"delta\") \\\n",
    "  .mode(\"overwrite\") \\\n",
    "  .option(\"overwriteSchema\", \"true\") \\\n",
    "  .saveAsTable(table_name)\n",
    "\n",
    "print(\"\\nNew Schema:\")\n",
    "spark.read.table(table_name).printSchema()\n",
    "\n",
    "print(\"\\nData after conversion:\")\n",
    "spark.read.table(table_name).show()"
   ]
  }
 ],
 "metadata": {
  "application/vnd.databricks.v1+notebook": {
   "computePreferences": null,
   "dashboards": [],
   "environmentMetadata": {
    "base_environment": "",
    "environment_version": "2"
   },
   "inputWidgetPreferences": null,
   "language": "python",
   "notebookMetadata": {
    "mostRecentlyExecutedCommandWithImplicitDF": {
     "commandId": 5185172566405455,
     "dataframes": [
      "_sqldf"
     ]
    },
    "pythonIndentUnit": 4
   },
   "notebookName": "factrequestdetails - new columns and convert office to string",
   "widgets": {}
  },
  "language_info": {
   "name": "python"
  }
 },
 "nbformat": 4,
 "nbformat_minor": 0
}

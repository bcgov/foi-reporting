{
 "cells": [
  {
   "cell_type": "code",
   "execution_count": 0,
   "metadata": {
    "application/vnd.databricks.v1+cell": {
     "cellMetadata": {
      "byteLimit": 2048000,
      "implicitDf": true,
      "rowLimit": 10000
     },
     "inputWidgets": {},
     "nuid": "1726805d-6997-461f-bfcc-49310258543c",
     "showTitle": false,
     "tableResultSettingsMap": {},
     "title": ""
    }
   },
   "outputs": [],
   "source": [
    "%sql\n",
    "\n",
    "alter table dimaddress ADD COLUMNS (\n",
    "    sourceoftruth string\n",
    ");\n",
    "update dimaddress set sourceoftruth = 'AXIS';\n",
    "\n",
    "alter table dimdeliverymodes ADD COLUMNS (\n",
    "    sourceoftruth string\n",
    ");\n",
    "update dimdeliverymodes set sourceoftruth = 'AXIS';\n",
    "\n",
    "alter table dimdivisions ADD COLUMNS (\n",
    "    sourceoftruth string\n",
    ");\n",
    "update dimdivisions set sourceoftruth = 'AXIS';\n",
    "\n",
    "alter table dimecgroups ADD COLUMNS (\n",
    "    sourceoftruth string\n",
    ");\n",
    "update dimecgroups set sourceoftruth = 'AXIS';\n",
    "\n",
    "alter table dimextensiontypes ADD COLUMNS (\n",
    "    sourceoftruth string\n",
    ");\n",
    "update dimextensiontypes set sourceoftruth = 'AXIS';\n",
    "\n",
    "alter table dimfoiflowrequeststatus ADD COLUMNS (\n",
    "    sourceoftruth string\n",
    ");\n",
    "update dimfoiflowrequeststatus set sourceoftruth = 'AXIS';\n",
    "\n",
    "alter table diminvoicedetails ADD COLUMNS (\n",
    "    sourceoftruth string\n",
    ");\n",
    "update diminvoicedetails set sourceoftruth = 'AXIS';\n",
    "\n",
    "alter table dimmodministryrequestids ADD COLUMNS (\n",
    "    sourceoftruth string\n",
    ");\n",
    "update dimmodministryrequestids set sourceoftruth = 'AXIS';\n",
    "\n",
    "alter table dimmodpageflags ADD COLUMNS (\n",
    "    sourceoftruth string\n",
    ");\n",
    "update dimmodpageflags set sourceoftruth = 'AXIS';\n",
    "\n",
    "alter table dimreceivedmodes ADD COLUMNS (\n",
    "    sourceoftruth string\n",
    ");\n",
    "update dimreceivedmodes set sourceoftruth = 'AXIS';\n",
    "\n",
    "alter table dimrequesters ADD COLUMNS (\n",
    "    sourceoftruth string\n",
    ");\n",
    "update dimrequesters set sourceoftruth = 'AXIS';\n",
    "\n",
    "alter table dimrequestertypes ADD COLUMNS (\n",
    "    sourceoftruth string\n",
    ");\n",
    "update dimrequestertypes set sourceoftruth = 'AXIS';\n",
    "\n",
    "alter table dimrequestfordocumentsstatus ADD COLUMNS (\n",
    "    sourceoftruth string\n",
    ");\n",
    "update dimrequestfordocumentsstatus set sourceoftruth = 'AXIS';\n",
    "\n",
    "alter table dimrequeststatuses ADD COLUMNS (\n",
    "    sourceoftruth string\n",
    ");\n",
    "update dimrequeststatuses set sourceoftruth = 'AXIS';\n",
    "\n",
    "alter table dimstages ADD COLUMNS (\n",
    "    sourceoftruth string\n",
    ");\n",
    "update dimstages set sourceoftruth = 'AXIS';\n",
    "\n",
    "alter table factrequestdetails ADD COLUMNS (\n",
    "    sourceoftruth string\n",
    ");\n",
    "update factrequestdetails set sourceoftruth = 'AXIS';\n",
    "\n",
    "alter table factrequestoipcfields ADD COLUMNS (\n",
    "    sourceoftruth string\n",
    ");\n",
    "update factrequestoipcfields set sourceoftruth = 'AXIS';\n",
    "\n",
    "alter table factrequestrequesters ADD COLUMNS (\n",
    "    sourceoftruth string\n",
    ");\n",
    "update factrequestrequesters set sourceoftruth = 'AXIS';\n",
    "\n"
   ]
  }
 ],
 "metadata": {
  "application/vnd.databricks.v1+notebook": {
   "computePreferences": null,
   "dashboards": [],
   "environmentMetadata": {
    "base_environment": "",
    "environment_version": "2"
   },
   "inputWidgetPreferences": null,
   "language": "python",
   "notebookMetadata": {
    "mostRecentlyExecutedCommandWithImplicitDF": {
     "commandId": 4530254519177293,
     "dataframes": [
      "_sqldf"
     ]
    },
    "pythonIndentUnit": 4
   },
   "notebookName": "add sourceoftruth to dim and fact tables",
   "widgets": {}
  },
  "language_info": {
   "name": "python"
  }
 },
 "nbformat": 4,
 "nbformat_minor": 0
}

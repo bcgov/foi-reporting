{
 "cells": [
  {
   "cell_type": "code",
   "execution_count": 0,
   "metadata": {
    "application/vnd.databricks.v1+cell": {
     "cellMetadata": {
      "byteLimit": 2048000,
      "implicitDf": true,
      "rowLimit": 10000
     },
     "inputWidgets": {},
     "nuid": "700f8478-6f2f-4880-9294-32a71a6756c2",
     "showTitle": false,
     "tableResultSettingsMap": {},
     "title": ""
    }
   },
   "outputs": [],
   "source": [
    "%sql\n",
    "\n",
    "-- select * from default.dimrequesters\n",
    "-- order by requesterid desc\n",
    "-- limit 100;\n",
    "\n",
    "-- Add 4 new columns\n",
    "ALTER TABLE default.dimrequesters\n",
    "ADD COLUMNS (\n",
    "    foirequestapplicantid INT,\n",
    "    foirequestversion INT,\n",
    "    axisapplicantid INT,\n",
    "    requestortypeid INT\n",
    ");\n"
   ]
  }
 ],
 "metadata": {
  "application/vnd.databricks.v1+notebook": {
   "computePreferences": null,
   "dashboards": [],
   "environmentMetadata": {
    "base_environment": "",
    "environment_version": "2"
   },
   "inputWidgetPreferences": null,
   "language": "python",
   "notebookMetadata": {
    "mostRecentlyExecutedCommandWithImplicitDF": {
     "commandId": 5185172566405446,
     "dataframes": [
      "_sqldf"
     ]
    },
    "pythonIndentUnit": 4
   },
   "notebookName": "dimrequesters - new columns",
   "widgets": {}
  },
  "language_info": {
   "name": "python"
  }
 },
 "nbformat": 4,
 "nbformat_minor": 0
}
